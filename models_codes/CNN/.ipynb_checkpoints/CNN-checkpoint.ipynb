{
 "cells": [
  {
   "cell_type": "code",
   "execution_count": 1,
   "id": "dac6a09d",
   "metadata": {},
   "outputs": [
    {
     "name": "stderr",
     "output_type": "stream",
     "text": [
      "C:\\Users\\JVS Tanish\\AppData\\Local\\Programs\\Python\\Python310\\lib\\site-packages\\pydub\\utils.py:170: RuntimeWarning: Couldn't find ffmpeg or avconv - defaulting to ffmpeg, but may not work\n",
      "  warn(\"Couldn't find ffmpeg or avconv - defaulting to ffmpeg, but may not work\", RuntimeWarning)\n"
     ]
    }
   ],
   "source": [
    "#GENERAL\n",
    "import pandas as pd\n",
    "import numpy as np\n",
    "import seaborn as sns\n",
    "import matplotlib.pyplot as plt\n",
    "import random\n",
    "#PATH PROCESS\n",
    "import os\n",
    "import os.path\n",
    "from pathlib import Path\n",
    "import glob\n",
    "#IMAGE PROCESS\n",
    "from PIL import Image\n",
    "from keras.preprocessing import image\n",
    "from tensorflow.keras.preprocessing.image import ImageDataGenerator\n",
    "# import cv2\n",
    "from keras.applications.vgg16 import preprocess_input, decode_predictions\n",
    "import imageio\n",
    "from IPython.display import Image\n",
    "import matplotlib.image as mpimg\n",
    "#MUSIC PROCESS\n",
    "import pydub\n",
    "from scipy.io.wavfile import read, write\n",
    "import librosa\n",
    "import librosa.display\n",
    "import IPython\n",
    "from IPython.display import Audio\n",
    "import scipy\n",
    "#SCALER & TRANSFORMATION\n",
    "from sklearn.preprocessing import StandardScaler, OneHotEncoder\n",
    "from sklearn.preprocessing import MinMaxScaler\n",
    "from keras.utils.np_utils import to_categorical\n",
    "from sklearn.model_selection import train_test_split\n",
    "from keras import regularizers\n",
    "from sklearn.preprocessing import LabelEncoder\n",
    "#GENERAL\n",
    "import pandas as pd\n",
    "import numpy as np\n",
    "import seaborn as sns\n",
    "import matplotlib.pyplot as plt\n",
    "import random\n",
    "#PATH PROCESS\n",
    "import os\n",
    "import os.path\n",
    "from pathlib import Path\n",
    "import glob\n",
    "#IMAGE PROCESS\n",
    "from PIL import Image\n",
    "from keras.preprocessing import image\n",
    "from tensorflow.keras.preprocessing.image import ImageDataGenerator\n",
    "# import cv2\n",
    "from keras.applications.vgg16 import preprocess_input, decode_predictions\n",
    "import imageio\n",
    "from IPython.display import Image\n",
    "import matplotlib.image as mpimg\n",
    "#MUSIC PROCESS\n",
    "import pydub\n",
    "from scipy.io.wavfile import read, write\n",
    "import librosa\n",
    "import librosa.display\n",
    "import IPython\n",
    "from IPython.display import Audio\n",
    "import scipy\n",
    "#SCALER & TRANSFORMATION\n",
    "from sklearn.preprocessing import StandardScaler, OneHotEncoder\n",
    "from sklearn.preprocessing import MinMaxScaler\n",
    "from keras.utils.np_utils import to_categorical\n",
    "from sklearn.model_selection import train_test_split\n",
    "from keras import regularizers\n",
    "from sklearn.preprocessing import LabelEncoder\n",
    "import keras\n",
    "#SKLEARN CLASSIFIER\n",
    "from xgboost import XGBClassifier, XGBRegressor\n",
    "from lightgbm import LGBMClassifier, LGBMRegressor\n",
    "from catboost import CatBoostClassifier, CatBoostRegressor\n",
    "from sklearn.linear_model import LogisticRegression\n",
    "from sklearn.naive_bayes import GaussianNB\n",
    "from sklearn.ensemble import RandomForestClassifier, RandomForestRegressor\n",
    "from sklearn.ensemble import GradientBoostingClassifier, GradientBoostingRegressor\n",
    "from sklearn.ensemble import BaggingRegressor\n",
    "from sklearn.tree import DecisionTreeClassifier, DecisionTreeRegressor\n",
    "from sklearn.neural_network import MLPClassifier, MLPRegressor\n",
    "from sklearn.neighbors import KNeighborsClassifier, KNeighborsRegressor\n",
    "from sklearn.linear_model import LinearRegression\n",
    "from sklearn.cross_decomposition import PLSRegression\n",
    "from sklearn.linear_model import Ridge\n",
    "from sklearn.linear_model import RidgeCV\n",
    "from sklearn.linear_model import Lasso\n",
    "from sklearn.linear_model import LassoCV\n",
    "from sklearn.linear_model import ElasticNet\n",
    "from sklearn.linear_model import ElasticNetCV\n",
    "#IGNORING WARNINGS\n",
    "from warnings import filterwarnings\n",
    "filterwarnings(\"ignore\",category=DeprecationWarning)\n",
    "filterwarnings(\"ignore\", category=FutureWarning) \n",
    "filterwarnings(\"ignore\", category=UserWarning)"
   ]
  },
  {
   "cell_type": "code",
   "execution_count": 3,
   "id": "3cce1ba2",
   "metadata": {},
   "outputs": [
    {
     "data": {
      "text/html": [
       "<div>\n",
       "<style scoped>\n",
       "    .dataframe tbody tr th:only-of-type {\n",
       "        vertical-align: middle;\n",
       "    }\n",
       "\n",
       "    .dataframe tbody tr th {\n",
       "        vertical-align: top;\n",
       "    }\n",
       "\n",
       "    .dataframe thead th {\n",
       "        text-align: right;\n",
       "    }\n",
       "</style>\n",
       "<table border=\"1\" class=\"dataframe\">\n",
       "  <thead>\n",
       "    <tr style=\"text-align: right;\">\n",
       "      <th></th>\n",
       "      <th>file_name</th>\n",
       "      <th>classID</th>\n",
       "      <th>label</th>\n",
       "    </tr>\n",
       "  </thead>\n",
       "  <tbody>\n",
       "    <tr>\n",
       "      <th>0</th>\n",
       "      <td>melody0.wav</td>\n",
       "      <td>1</td>\n",
       "      <td>antiviral</td>\n",
       "    </tr>\n",
       "    <tr>\n",
       "      <th>1</th>\n",
       "      <td>melody1.wav</td>\n",
       "      <td>1</td>\n",
       "      <td>antiviral</td>\n",
       "    </tr>\n",
       "    <tr>\n",
       "      <th>2</th>\n",
       "      <td>melody2.wav</td>\n",
       "      <td>1</td>\n",
       "      <td>antiviral</td>\n",
       "    </tr>\n",
       "    <tr>\n",
       "      <th>3</th>\n",
       "      <td>melody3.wav</td>\n",
       "      <td>1</td>\n",
       "      <td>antiviral</td>\n",
       "    </tr>\n",
       "    <tr>\n",
       "      <th>4</th>\n",
       "      <td>melody4.wav</td>\n",
       "      <td>1</td>\n",
       "      <td>antiviral</td>\n",
       "    </tr>\n",
       "    <tr>\n",
       "      <th>...</th>\n",
       "      <td>...</td>\n",
       "      <td>...</td>\n",
       "      <td>...</td>\n",
       "    </tr>\n",
       "    <tr>\n",
       "      <th>1698</th>\n",
       "      <td>melody1698.wav</td>\n",
       "      <td>4</td>\n",
       "      <td>anti-coronavirus</td>\n",
       "    </tr>\n",
       "    <tr>\n",
       "      <th>1699</th>\n",
       "      <td>melody1699.wav</td>\n",
       "      <td>4</td>\n",
       "      <td>anti-coronavirus</td>\n",
       "    </tr>\n",
       "    <tr>\n",
       "      <th>1700</th>\n",
       "      <td>melody1700.wav</td>\n",
       "      <td>4</td>\n",
       "      <td>anti-coronavirus</td>\n",
       "    </tr>\n",
       "    <tr>\n",
       "      <th>1701</th>\n",
       "      <td>melody1701.wav</td>\n",
       "      <td>4</td>\n",
       "      <td>anti-coronavirus</td>\n",
       "    </tr>\n",
       "    <tr>\n",
       "      <th>1702</th>\n",
       "      <td>melody1702.wav</td>\n",
       "      <td>4</td>\n",
       "      <td>anti-coronavirus</td>\n",
       "    </tr>\n",
       "  </tbody>\n",
       "</table>\n",
       "<p>1703 rows × 3 columns</p>\n",
       "</div>"
      ],
      "text/plain": [
       "           file_name  classID             label\n",
       "0        melody0.wav        1         antiviral\n",
       "1        melody1.wav        1         antiviral\n",
       "2        melody2.wav        1         antiviral\n",
       "3        melody3.wav        1         antiviral\n",
       "4        melody4.wav        1         antiviral\n",
       "...              ...      ...               ...\n",
       "1698  melody1698.wav        4  anti-coronavirus\n",
       "1699  melody1699.wav        4  anti-coronavirus\n",
       "1700  melody1700.wav        4  anti-coronavirus\n",
       "1701  melody1701.wav        4  anti-coronavirus\n",
       "1702  melody1702.wav        4  anti-coronavirus\n",
       "\n",
       "[1703 rows x 3 columns]"
      ]
     },
     "execution_count": 3,
     "metadata": {},
     "output_type": "execute_result"
    }
   ],
   "source": [
    "import pandas as pd\n",
    "data = pd.read_csv('../wavefiles.csv')\n",
    "data"
   ]
  },
  {
   "cell_type": "code",
   "execution_count": 4,
   "id": "c8be71eb",
   "metadata": {},
   "outputs": [],
   "source": [
    "Directory = 'C:/Users/JVS Tanish/Downloads/MidMinorProject/music-melodies'"
   ]
  },
  {
   "cell_type": "code",
   "execution_count": null,
   "id": "3a8d1f6e",
   "metadata": {},
   "outputs": [
    {
     "name": "stderr",
     "output_type": "stream",
     "text": [
      "439it [01:21,  6.83it/s]"
     ]
    }
   ],
   "source": [
    "from tqdm import tqdm\n",
    "import os\n",
    "extracted_data = []\n",
    "for index,row in tqdm(data.iterrows()):\n",
    "    file_name = os.path.join(os.path.abspath(Directory),str(row[\"file_name\"]))\n",
    "    class_labels= row[\"label\"]\n",
    "    y,sr = librosa.load(file_name, res_type='kaiser_fast')\n",
    "    feature = librosa.feature.mfcc(y=y, sr=sr, n_mfcc=50)\n",
    "    scaled_feature = np.mean(feature.T,axis=0)\n",
    "    extracted_data.append([scaled_feature, class_labels])"
   ]
  },
  {
   "cell_type": "code",
   "execution_count": 5,
   "id": "92889837",
   "metadata": {},
   "outputs": [],
   "source": [
    "feature_df = pd.DataFrame(extracted_data, columns=['feature','class'])"
   ]
  },
  {
   "cell_type": "code",
   "execution_count": 6,
   "id": "5ebeafda",
   "metadata": {},
   "outputs": [],
   "source": [
    "x = np.array(feature_df['feature'].tolist())"
   ]
  },
  {
   "cell_type": "code",
   "execution_count": 7,
   "id": "c98e66be",
   "metadata": {},
   "outputs": [],
   "source": [
    "y = np.array(feature_df['class'].tolist())"
   ]
  },
  {
   "cell_type": "code",
   "execution_count": 8,
   "id": "dddf445a",
   "metadata": {},
   "outputs": [
    {
     "name": "stdout",
     "output_type": "stream",
     "text": [
      "(1703, 50)\n",
      "(1703,)\n"
     ]
    }
   ],
   "source": [
    "print(x.shape)\n",
    "print(y.shape)"
   ]
  },
  {
   "cell_type": "code",
   "execution_count": 9,
   "id": "244f76b2",
   "metadata": {},
   "outputs": [],
   "source": [
    "from sklearn import preprocessing\n",
    "\n",
    "OHE_Function = OneHotEncoder()\n",
    "Scaler_Function = StandardScaler()"
   ]
  },
  {
   "cell_type": "code",
   "execution_count": 10,
   "id": "6475b131",
   "metadata": {},
   "outputs": [
    {
     "name": "stdout",
     "output_type": "stream",
     "text": [
      "(1703, 4)\n"
     ]
    }
   ],
   "source": [
    "Part_Y_Encode = OHE_Function.fit_transform(np.array(y).reshape(-1,1)).toarray()\n",
    "print(Part_Y_Encode.shape)"
   ]
  },
  {
   "cell_type": "code",
   "execution_count": 11,
   "id": "13905436",
   "metadata": {},
   "outputs": [
    {
     "name": "stdout",
     "output_type": "stream",
     "text": [
      "(1532, 50)\n",
      "(1532, 4)\n",
      "(171, 50)\n",
      "(171, 4)\n"
     ]
    }
   ],
   "source": [
    "X_train, X_test, Y_train, Y_test = train_test_split(x, Part_Y_Encode, train_size=0.8, random_state = 42, shuffle=True)\n",
    "\n",
    "print(X_train.shape)\n",
    "print(Y_train.shape)\n",
    "print(X_test.shape)\n",
    "print(Y_test.shape)"
   ]
  },
  {
   "cell_type": "code",
   "execution_count": 12,
   "id": "d6dfbc52",
   "metadata": {},
   "outputs": [
    {
     "name": "stdout",
     "output_type": "stream",
     "text": [
      "(1532, 1, 50)\n",
      "(171, 1, 50)\n",
      "(1532, 4)\n"
     ]
    }
   ],
   "source": [
    "n_seq = 1\n",
    "n_steps = 50\n",
    "X_train = X_train.reshape(X_train.shape[0], n_seq, n_steps)\n",
    "X_test = X_test.reshape(X_test.shape[0], n_seq, n_steps)\n",
    "\n",
    "print(X_train.shape)\n",
    "print(X_test.shape)\n",
    "print(Y_train.shape)"
   ]
  },
  {
   "cell_type": "code",
   "execution_count": 13,
   "id": "bd3ee1d0",
   "metadata": {},
   "outputs": [],
   "source": [
    "output_labels = 4\n",
    "compile_metrics = [\"accuracy\"]\n",
    "compile_loss = \"categorical_crossentropy\"\n",
    "compile_optimizer = \"adam\""
   ]
  },
  {
   "cell_type": "code",
   "execution_count": 15,
   "id": "57558700",
   "metadata": {},
   "outputs": [
    {
     "name": "stdout",
     "output_type": "stream",
     "text": [
      "Model: \"sequential_1\"\n",
      "_________________________________________________________________\n",
      " Layer (type)                Output Shape              Param #   \n",
      "=================================================================\n",
      " lstm_2 (LSTM)               (None, 1, 128)            91648     \n",
      "                                                                 \n",
      " dropout_2 (Dropout)         (None, 1, 128)            0         \n",
      "                                                                 \n",
      " lstm_3 (LSTM)               (None, 128)               131584    \n",
      "                                                                 \n",
      " dense_2 (Dense)             (None, 64)                8256      \n",
      "                                                                 \n",
      " dropout_3 (Dropout)         (None, 64)                0         \n",
      "                                                                 \n",
      " dense_3 (Dense)             (None, 4)                 260       \n",
      "                                                                 \n",
      "=================================================================\n",
      "Total params: 231,748\n",
      "Trainable params: 231,748\n",
      "Non-trainable params: 0\n",
      "_________________________________________________________________\n"
     ]
    }
   ],
   "source": [
    "from keras.layers import Dense, Dropout, LSTM\n",
    "from keras.optimizers import Adam\n",
    "from keras.models import Sequential\n",
    "\n",
    "\n",
    "#Adding the input LSTM network layer\n",
    "LSTM_model= Sequential()\n",
    "LSTM_model.add(LSTM(128, input_shape=(1,50), return_sequences=True))\n",
    "LSTM_model.add(Dropout(0.2))\n",
    "# model_LSTM.add(Dense(10, activation='softmax'))\n",
    "\n",
    "#Adding a second LSTM network layer\n",
    "LSTM_model.add(LSTM(128))\n",
    "\n",
    "#Adding a dense hidden layer\n",
    "LSTM_model.add(Dense(64, activation='relu'))\n",
    "LSTM_model.add(Dropout(0.2))\n",
    "\n",
    "#Adding the output layer\n",
    "LSTM_model.add(Dense(output_labels, activation='softmax'))\n",
    "LSTM_model.summary()"
   ]
  },
  {
   "cell_type": "code",
   "execution_count": 22,
   "id": "d11e0016",
   "metadata": {},
   "outputs": [],
   "source": [
    "LSTM_model.compile(optimizer=compile_optimizer,loss=compile_loss,metrics=compile_metrics)"
   ]
  },
  {
   "cell_type": "code",
   "execution_count": 23,
   "id": "fd5474f8",
   "metadata": {},
   "outputs": [],
   "source": [
    "import tensorflow as tf\n",
    "Call_Back_Early_Stop = tf.keras.callbacks.EarlyStopping(monitor=\"loss\",patience=3,mode=\"min\")\n",
    "Call_Back_Check_Hybrid = tf.keras.callbacks.ModelCheckpoint(monitor=\"val_accuracy\",\n",
    "                                                     save_best_only=True,\n",
    "                                                     filepath=\"./my_LSTM_model\")"
   ]
  },
  {
   "cell_type": "code",
   "execution_count": 35,
   "id": "bb43dd36",
   "metadata": {},
   "outputs": [
    {
     "name": "stdout",
     "output_type": "stream",
     "text": [
      "Epoch 1/200\n",
      "12/12 [==============================] - 0s 31ms/step - loss: 0.6618 - accuracy: 0.7363 - val_loss: 0.9070 - val_accuracy: 0.6608\n",
      "Epoch 2/200\n",
      "12/12 [==============================] - 0s 34ms/step - loss: 0.6729 - accuracy: 0.7415 - val_loss: 0.9631 - val_accuracy: 0.6433\n",
      "Epoch 3/200\n",
      "12/12 [==============================] - 0s 31ms/step - loss: 0.6652 - accuracy: 0.7311 - val_loss: 0.9009 - val_accuracy: 0.6667\n",
      "Epoch 4/200\n",
      "12/12 [==============================] - 0s 38ms/step - loss: 0.6524 - accuracy: 0.7559 - val_loss: 0.9185 - val_accuracy: 0.6667\n",
      "Epoch 5/200\n",
      "12/12 [==============================] - 0s 33ms/step - loss: 0.6626 - accuracy: 0.7285 - val_loss: 0.9221 - val_accuracy: 0.6257\n",
      "Epoch 6/200\n",
      "12/12 [==============================] - 0s 31ms/step - loss: 0.6444 - accuracy: 0.7409 - val_loss: 0.9406 - val_accuracy: 0.6433\n",
      "Epoch 7/200\n",
      "12/12 [==============================] - 0s 40ms/step - loss: 0.6372 - accuracy: 0.7441 - val_loss: 1.0045 - val_accuracy: 0.6491\n",
      "Epoch 8/200\n",
      "12/12 [==============================] - 0s 36ms/step - loss: 0.6519 - accuracy: 0.7480 - val_loss: 0.9078 - val_accuracy: 0.6491\n",
      "Epoch 9/200\n",
      "12/12 [==============================] - 0s 38ms/step - loss: 0.6344 - accuracy: 0.7415 - val_loss: 0.9331 - val_accuracy: 0.6491\n",
      "Epoch 10/200\n",
      "12/12 [==============================] - 0s 36ms/step - loss: 0.6354 - accuracy: 0.7500 - val_loss: 0.8982 - val_accuracy: 0.6433\n",
      "Epoch 11/200\n",
      "12/12 [==============================] - 0s 38ms/step - loss: 0.6163 - accuracy: 0.7552 - val_loss: 0.9547 - val_accuracy: 0.6491\n",
      "Epoch 12/200\n",
      "12/12 [==============================] - 0s 35ms/step - loss: 0.6439 - accuracy: 0.7448 - val_loss: 0.9181 - val_accuracy: 0.6667\n",
      "Epoch 13/200\n",
      "12/12 [==============================] - 0s 30ms/step - loss: 0.6168 - accuracy: 0.7520 - val_loss: 0.9119 - val_accuracy: 0.6491\n",
      "Epoch 14/200\n",
      "12/12 [==============================] - 0s 31ms/step - loss: 0.6114 - accuracy: 0.7591 - val_loss: 0.9162 - val_accuracy: 0.6608\n",
      "Epoch 15/200\n",
      "12/12 [==============================] - 0s 39ms/step - loss: 0.6254 - accuracy: 0.7546 - val_loss: 0.9334 - val_accuracy: 0.6667\n",
      "Epoch 16/200\n",
      "12/12 [==============================] - 0s 40ms/step - loss: 0.6624 - accuracy: 0.7428 - val_loss: 0.8667 - val_accuracy: 0.6433\n",
      "Epoch 17/200\n",
      "12/12 [==============================] - 0s 37ms/step - loss: 0.6386 - accuracy: 0.7578 - val_loss: 0.8811 - val_accuracy: 0.6608\n"
     ]
    }
   ],
   "source": [
    "LSTM_Model = LSTM_model.fit(X_train, Y_train, epochs=200, batch_size=128, validation_data=(X_test, Y_test), callbacks=[Call_Back_Early_Stop,Call_Back_Check_Hybrid])"
   ]
  },
  {
   "cell_type": "code",
   "execution_count": 36,
   "id": "42b343f2",
   "metadata": {},
   "outputs": [
    {
     "name": "stdout",
     "output_type": "stream",
     "text": [
      "Training Accuracy of LSTM:  0.8087467551231384\n",
      "Testing Accuracy of LSTM:  0.6608186960220337\n"
     ]
    }
   ],
   "source": [
    "train_accuracy = LSTM_model.evaluate(X_train, Y_train, verbose=0)\n",
    "print(\"Training Accuracy of LSTM: \", train_accuracy[1])\n",
    "\n",
    "test_accuracy = LSTM_model.evaluate(X_test, Y_test, verbose=0)\n",
    "print(\"Testing Accuracy of LSTM: \", test_accuracy[1])"
   ]
  },
  {
   "cell_type": "code",
   "execution_count": 41,
   "id": "17d4436f",
   "metadata": {},
   "outputs": [
    {
     "ename": "ValueError",
     "evalue": "x and y must have same first dimension, but have shapes (199,) and (17,)",
     "output_type": "error",
     "traceback": [
      "\u001b[1;31m---------------------------------------------------------------------------\u001b[0m",
      "\u001b[1;31mValueError\u001b[0m                                Traceback (most recent call last)",
      "Cell \u001b[1;32mIn [41], line 9\u001b[0m\n\u001b[0;32m      6\u001b[0m epochs\u001b[38;5;241m=\u001b[39m\u001b[38;5;28mrange\u001b[39m(\u001b[38;5;241m1\u001b[39m,\u001b[38;5;241m200\u001b[39m)\n\u001b[0;32m      8\u001b[0m plt\u001b[38;5;241m.\u001b[39mfigure(\u001b[38;5;241m1\u001b[39m,figsize\u001b[38;5;241m=\u001b[39m(\u001b[38;5;241m20\u001b[39m,\u001b[38;5;241m10\u001b[39m))\n\u001b[1;32m----> 9\u001b[0m \u001b[43mplt\u001b[49m\u001b[38;5;241;43m.\u001b[39;49m\u001b[43mplot\u001b[49m\u001b[43m(\u001b[49m\u001b[43mepochs\u001b[49m\u001b[43m,\u001b[49m\u001b[43mloss_values\u001b[49m\u001b[43m,\u001b[49m\u001b[38;5;124;43m'\u001b[39;49m\u001b[38;5;124;43mblue\u001b[39;49m\u001b[38;5;124;43m'\u001b[39;49m\u001b[43m,\u001b[49m\u001b[43mlabel\u001b[49m\u001b[38;5;241;43m=\u001b[39;49m\u001b[38;5;124;43m'\u001b[39;49m\u001b[38;5;124;43mTraining Loss\u001b[39;49m\u001b[38;5;124;43m'\u001b[39;49m\u001b[43m)\u001b[49m\n\u001b[0;32m     10\u001b[0m plt\u001b[38;5;241m.\u001b[39mplot(epochs,val_loss_values,\u001b[38;5;124m'\u001b[39m\u001b[38;5;124morange\u001b[39m\u001b[38;5;124m'\u001b[39m, label\u001b[38;5;241m=\u001b[39m\u001b[38;5;124m'\u001b[39m\u001b[38;5;124mValidation Loss\u001b[39m\u001b[38;5;124m'\u001b[39m)\n\u001b[0;32m     11\u001b[0m plt\u001b[38;5;241m.\u001b[39mtitle(\u001b[38;5;124m'\u001b[39m\u001b[38;5;124mTraining and testing loss of LSTM model\u001b[39m\u001b[38;5;124m'\u001b[39m)\n",
      "File \u001b[1;32m~\\AppData\\Local\\Programs\\Python\\Python310\\lib\\site-packages\\matplotlib\\pyplot.py:2728\u001b[0m, in \u001b[0;36mplot\u001b[1;34m(scalex, scaley, data, *args, **kwargs)\u001b[0m\n\u001b[0;32m   2726\u001b[0m \u001b[38;5;129m@_copy_docstring_and_deprecators\u001b[39m(Axes\u001b[38;5;241m.\u001b[39mplot)\n\u001b[0;32m   2727\u001b[0m \u001b[38;5;28;01mdef\u001b[39;00m \u001b[38;5;21mplot\u001b[39m(\u001b[38;5;241m*\u001b[39margs, scalex\u001b[38;5;241m=\u001b[39m\u001b[38;5;28;01mTrue\u001b[39;00m, scaley\u001b[38;5;241m=\u001b[39m\u001b[38;5;28;01mTrue\u001b[39;00m, data\u001b[38;5;241m=\u001b[39m\u001b[38;5;28;01mNone\u001b[39;00m, \u001b[38;5;241m*\u001b[39m\u001b[38;5;241m*\u001b[39mkwargs):\n\u001b[1;32m-> 2728\u001b[0m     \u001b[38;5;28;01mreturn\u001b[39;00m gca()\u001b[38;5;241m.\u001b[39mplot(\n\u001b[0;32m   2729\u001b[0m         \u001b[38;5;241m*\u001b[39margs, scalex\u001b[38;5;241m=\u001b[39mscalex, scaley\u001b[38;5;241m=\u001b[39mscaley,\n\u001b[0;32m   2730\u001b[0m         \u001b[38;5;241m*\u001b[39m\u001b[38;5;241m*\u001b[39m({\u001b[38;5;124m\"\u001b[39m\u001b[38;5;124mdata\u001b[39m\u001b[38;5;124m\"\u001b[39m: data} \u001b[38;5;28;01mif\u001b[39;00m data \u001b[38;5;129;01mis\u001b[39;00m \u001b[38;5;129;01mnot\u001b[39;00m \u001b[38;5;28;01mNone\u001b[39;00m \u001b[38;5;28;01melse\u001b[39;00m {}), \u001b[38;5;241m*\u001b[39m\u001b[38;5;241m*\u001b[39mkwargs)\n",
      "File \u001b[1;32m~\\AppData\\Local\\Programs\\Python\\Python310\\lib\\site-packages\\matplotlib\\axes\\_axes.py:1662\u001b[0m, in \u001b[0;36mAxes.plot\u001b[1;34m(self, scalex, scaley, data, *args, **kwargs)\u001b[0m\n\u001b[0;32m   1419\u001b[0m \u001b[38;5;124;03m\"\"\"\u001b[39;00m\n\u001b[0;32m   1420\u001b[0m \u001b[38;5;124;03mPlot y versus x as lines and/or markers.\u001b[39;00m\n\u001b[0;32m   1421\u001b[0m \n\u001b[1;32m   (...)\u001b[0m\n\u001b[0;32m   1659\u001b[0m \u001b[38;5;124;03m(``'green'``) or hex strings (``'#008000'``).\u001b[39;00m\n\u001b[0;32m   1660\u001b[0m \u001b[38;5;124;03m\"\"\"\u001b[39;00m\n\u001b[0;32m   1661\u001b[0m kwargs \u001b[38;5;241m=\u001b[39m cbook\u001b[38;5;241m.\u001b[39mnormalize_kwargs(kwargs, mlines\u001b[38;5;241m.\u001b[39mLine2D)\n\u001b[1;32m-> 1662\u001b[0m lines \u001b[38;5;241m=\u001b[39m [\u001b[38;5;241m*\u001b[39m\u001b[38;5;28mself\u001b[39m\u001b[38;5;241m.\u001b[39m_get_lines(\u001b[38;5;241m*\u001b[39margs, data\u001b[38;5;241m=\u001b[39mdata, \u001b[38;5;241m*\u001b[39m\u001b[38;5;241m*\u001b[39mkwargs)]\n\u001b[0;32m   1663\u001b[0m \u001b[38;5;28;01mfor\u001b[39;00m line \u001b[38;5;129;01min\u001b[39;00m lines:\n\u001b[0;32m   1664\u001b[0m     \u001b[38;5;28mself\u001b[39m\u001b[38;5;241m.\u001b[39madd_line(line)\n",
      "File \u001b[1;32m~\\AppData\\Local\\Programs\\Python\\Python310\\lib\\site-packages\\matplotlib\\axes\\_base.py:311\u001b[0m, in \u001b[0;36m_process_plot_var_args.__call__\u001b[1;34m(self, data, *args, **kwargs)\u001b[0m\n\u001b[0;32m    309\u001b[0m     this \u001b[38;5;241m+\u001b[39m\u001b[38;5;241m=\u001b[39m args[\u001b[38;5;241m0\u001b[39m],\n\u001b[0;32m    310\u001b[0m     args \u001b[38;5;241m=\u001b[39m args[\u001b[38;5;241m1\u001b[39m:]\n\u001b[1;32m--> 311\u001b[0m \u001b[38;5;28;01myield from\u001b[39;00m \u001b[38;5;28;43mself\u001b[39;49m\u001b[38;5;241;43m.\u001b[39;49m\u001b[43m_plot_args\u001b[49m\u001b[43m(\u001b[49m\n\u001b[0;32m    312\u001b[0m \u001b[43m    \u001b[49m\u001b[43mthis\u001b[49m\u001b[43m,\u001b[49m\u001b[43m \u001b[49m\u001b[43mkwargs\u001b[49m\u001b[43m,\u001b[49m\u001b[43m \u001b[49m\u001b[43mambiguous_fmt_datakey\u001b[49m\u001b[38;5;241;43m=\u001b[39;49m\u001b[43mambiguous_fmt_datakey\u001b[49m\u001b[43m)\u001b[49m\n",
      "File \u001b[1;32m~\\AppData\\Local\\Programs\\Python\\Python310\\lib\\site-packages\\matplotlib\\axes\\_base.py:504\u001b[0m, in \u001b[0;36m_process_plot_var_args._plot_args\u001b[1;34m(self, tup, kwargs, return_kwargs, ambiguous_fmt_datakey)\u001b[0m\n\u001b[0;32m    501\u001b[0m     \u001b[38;5;28mself\u001b[39m\u001b[38;5;241m.\u001b[39maxes\u001b[38;5;241m.\u001b[39myaxis\u001b[38;5;241m.\u001b[39mupdate_units(y)\n\u001b[0;32m    503\u001b[0m \u001b[38;5;28;01mif\u001b[39;00m x\u001b[38;5;241m.\u001b[39mshape[\u001b[38;5;241m0\u001b[39m] \u001b[38;5;241m!=\u001b[39m y\u001b[38;5;241m.\u001b[39mshape[\u001b[38;5;241m0\u001b[39m]:\n\u001b[1;32m--> 504\u001b[0m     \u001b[38;5;28;01mraise\u001b[39;00m \u001b[38;5;167;01mValueError\u001b[39;00m(\u001b[38;5;124mf\u001b[39m\u001b[38;5;124m\"\u001b[39m\u001b[38;5;124mx and y must have same first dimension, but \u001b[39m\u001b[38;5;124m\"\u001b[39m\n\u001b[0;32m    505\u001b[0m                      \u001b[38;5;124mf\u001b[39m\u001b[38;5;124m\"\u001b[39m\u001b[38;5;124mhave shapes \u001b[39m\u001b[38;5;132;01m{\u001b[39;00mx\u001b[38;5;241m.\u001b[39mshape\u001b[38;5;132;01m}\u001b[39;00m\u001b[38;5;124m and \u001b[39m\u001b[38;5;132;01m{\u001b[39;00my\u001b[38;5;241m.\u001b[39mshape\u001b[38;5;132;01m}\u001b[39;00m\u001b[38;5;124m\"\u001b[39m)\n\u001b[0;32m    506\u001b[0m \u001b[38;5;28;01mif\u001b[39;00m x\u001b[38;5;241m.\u001b[39mndim \u001b[38;5;241m>\u001b[39m \u001b[38;5;241m2\u001b[39m \u001b[38;5;129;01mor\u001b[39;00m y\u001b[38;5;241m.\u001b[39mndim \u001b[38;5;241m>\u001b[39m \u001b[38;5;241m2\u001b[39m:\n\u001b[0;32m    507\u001b[0m     \u001b[38;5;28;01mraise\u001b[39;00m \u001b[38;5;167;01mValueError\u001b[39;00m(\u001b[38;5;124mf\u001b[39m\u001b[38;5;124m\"\u001b[39m\u001b[38;5;124mx and y can be no greater than 2D, but have \u001b[39m\u001b[38;5;124m\"\u001b[39m\n\u001b[0;32m    508\u001b[0m                      \u001b[38;5;124mf\u001b[39m\u001b[38;5;124m\"\u001b[39m\u001b[38;5;124mshapes \u001b[39m\u001b[38;5;132;01m{\u001b[39;00mx\u001b[38;5;241m.\u001b[39mshape\u001b[38;5;132;01m}\u001b[39;00m\u001b[38;5;124m and \u001b[39m\u001b[38;5;132;01m{\u001b[39;00my\u001b[38;5;241m.\u001b[39mshape\u001b[38;5;132;01m}\u001b[39;00m\u001b[38;5;124m\"\u001b[39m)\n",
      "\u001b[1;31mValueError\u001b[0m: x and y must have same first dimension, but have shapes (199,) and (17,)"
     ]
    },
    {
     "data": {
      "image/png": "[encoded data removed]",
      "text/plain": [
       "<Figure size 2000x1000 with 1 Axes>"
      ]
     },
     "metadata": {},
     "output_type": "display_data"
    }
   ],
   "source": [
    "history_dict=LSTM_Model.history\n",
    "loss_values=history_dict['loss']\n",
    "acc_values=history_dict['accuracy']\n",
    "val_loss_values = history_dict['val_loss']\n",
    "val_acc_values=history_dict['val_accuracy']\n",
    "epochs=range(1,200)\n",
    "\n",
    "plt.figure(1,figsize=(20,10))\n",
    "plt.plot(epochs,loss_values,'blue',label='Training Loss')\n",
    "plt.plot(epochs,val_loss_values,'orange', label='Validation Loss')\n",
    "plt.title('Training and testing loss of LSTM model')\n",
    "plt.xlabel('Epochs')\n",
    "plt.ylabel('Loss')\n",
    "plt.legend()\n",
    "plt.show()\n",
    "\n",
    "plt.figure(2,figsize=(20,10))\n",
    "plt.plot(epochs,acc_values,'blue', label='Training accuracy')\n",
    "plt.plot(epochs,val_acc_values,'orange',label='Validation accuracy')\n",
    "plt.title('Training and testing accuracy of LSTM model')\n",
    "plt.xlabel('Epochs')\n",
    "plt.ylabel('Accuracy')\n",
    "plt.legend()\n",
    "plt.show()"
   ]
  },
  {
   "cell_type": "code",
   "execution_count": 39,
   "id": "2831669a",
   "metadata": {},
   "outputs": [
    {
     "data": {
      "text/plain": [
       "<AxesSubplot: title={'center': 'LSTM'}>"
      ]
     },
     "execution_count": 39,
     "metadata": {},
     "output_type": "execute_result"
    },
    {
     "data": {
      "image/png": "[encoded data removed]",
      "text/plain": [
       "<Figure size 640x480 with 1 Axes>"
      ]
     },
     "metadata": {},
     "output_type": "display_data"
    }
   ],
   "source": [
    "Grap_Data_LSTM = pd.DataFrame(LSTM_Model.history)\n",
    "Grap_Data_LSTM.plot(title='LSTM')"
   ]
  },
  {
   "cell_type": "code",
   "execution_count": 41,
   "id": "38f1b275",
   "metadata": {},
   "outputs": [
    {
     "name": "stdout",
     "output_type": "stream",
     "text": [
      "(1532, 50)\n",
      "(1532, 4)\n",
      "(171, 50)\n",
      "(171, 4)\n"
     ]
    }
   ],
   "source": [
    "X_train, X_test, Y_train, Y_test = train_test_split(x, Part_Y_Encode, train_size=0.9, random_state = 42, shuffle=True)\n",
    "\n",
    "print(X_train.shape)\n",
    "print(Y_train.shape)\n",
    "print(X_test.shape)\n",
    "print(Y_test.shape)"
   ]
  },
  {
   "cell_type": "code",
   "execution_count": 42,
   "id": "5b0b0088",
   "metadata": {},
   "outputs": [
    {
     "name": "stdout",
     "output_type": "stream",
     "text": [
      "(1532, 50, 1)\n",
      "(171, 50, 1)\n",
      "(1532, 4)\n"
     ]
    }
   ],
   "source": [
    "n_seq = 50\n",
    "n_steps = 1\n",
    "X_train = X_train.reshape(X_train.shape[0], n_seq, n_steps)\n",
    "X_test = X_test.reshape(X_test.shape[0], n_seq, n_steps)\n",
    "\n",
    "print(X_train.shape)\n",
    "print(X_test.shape)\n",
    "print(Y_train.shape)"
   ]
  },
  {
   "cell_type": "code",
   "execution_count": 43,
   "id": "66423fc2",
   "metadata": {},
   "outputs": [],
   "source": [
    "output_labels = 4\n",
    "compile_metrics = [\"accuracy\"]\n",
    "compile_loss = \"categorical_crossentropy\"\n",
    "compile_optimizer = \"adam\""
   ]
  },
  {
   "cell_type": "code",
   "execution_count": 45,
   "id": "40464355",
   "metadata": {},
   "outputs": [
    {
     "name": "stdout",
     "output_type": "stream",
     "text": [
      "Model: \"sequential_4\"\n",
      "_________________________________________________________________\n",
      " Layer (type)                Output Shape              Param #   \n",
      "=================================================================\n",
      " lstm_8 (LSTM)               (None, 50, 128)           66560     \n",
      "                                                                 \n",
      " dropout_8 (Dropout)         (None, 50, 128)           0         \n",
      "                                                                 \n",
      " lstm_9 (LSTM)               (None, 128)               131584    \n",
      "                                                                 \n",
      " dense_8 (Dense)             (None, 64)                8256      \n",
      "                                                                 \n",
      " dropout_9 (Dropout)         (None, 64)                0         \n",
      "                                                                 \n",
      " dense_9 (Dense)             (None, 4)                 260       \n",
      "                                                                 \n",
      "=================================================================\n",
      "Total params: 206,660\n",
      "Trainable params: 206,660\n",
      "Non-trainable params: 0\n",
      "_________________________________________________________________\n"
     ]
    }
   ],
   "source": [
    "from keras.layers import Dense, Dropout, LSTM\n",
    "from keras.optimizers import Adam\n",
    "from keras.models import Sequential\n",
    "\n",
    "\n",
    "#Adding the input LSTM network layer\n",
    "model_LSTM = Sequential()\n",
    "model_LSTM.add(LSTM(128, input_shape=(50,1), return_sequences=True))\n",
    "model_LSTM.add(Dropout(0.2))\n",
    "# model_LSTM.add(Dense(10, activation='softmax'))\n",
    "\n",
    "#Adding a second LSTM network layer\n",
    "model_LSTM.add(LSTM(128))\n",
    "\n",
    "#Adding a dense hidden layer\n",
    "model_LSTM.add(Dense(64, activation='relu'))\n",
    "model_LSTM.add(Dropout(0.2))\n",
    "\n",
    "#Adding the output layer\n",
    "model_LSTM.add(Dense(output_labels, activation='softmax'))\n",
    "model_LSTM.summary()"
   ]
  },
  {
   "cell_type": "code",
   "execution_count": 46,
   "id": "5bf3d7d1",
   "metadata": {},
   "outputs": [],
   "source": [
    "model_LSTM.compile(optimizer=compile_optimizer,loss=compile_loss,metrics=compile_metrics)"
   ]
  },
  {
   "cell_type": "code",
   "execution_count": 47,
   "id": "4cd3e520",
   "metadata": {},
   "outputs": [],
   "source": [
    "import tensorflow as tf\n",
    "Call_Back_Early_Stop = tf.keras.callbacks.EarlyStopping(monitor=\"loss\",patience=3,mode=\"min\")\n",
    "Call_Back_Check_Hybrid = tf.keras.callbacks.ModelCheckpoint(monitor=\"val_accuracy\",\n",
    "                                                     save_best_only=True,\n",
    "                                                     filepath=\"./my_New_LSTM_model\")"
   ]
  },
  {
   "cell_type": "code",
   "execution_count": 48,
   "id": "2e93ce9e",
   "metadata": {},
   "outputs": [
    {
     "name": "stdout",
     "output_type": "stream",
     "text": [
      "Epoch 1/200\n",
      "12/12 [==============================] - ETA: 0s - loss: 1.3029 - accuracy: 0.3290"
     ]
    },
    {
     "name": "stderr",
     "output_type": "stream",
     "text": [
      "WARNING:absl:Found untraced functions such as lstm_cell_8_layer_call_fn, lstm_cell_8_layer_call_and_return_conditional_losses, lstm_cell_9_layer_call_fn, lstm_cell_9_layer_call_and_return_conditional_losses while saving (showing 4 of 4). These functions will not be directly callable after loading.\n"
     ]
    },
    {
     "name": "stdout",
     "output_type": "stream",
     "text": [
      "INFO:tensorflow:Assets written to: .\\my_New_LSTM_model\\assets\n"
     ]
    },
    {
     "name": "stderr",
     "output_type": "stream",
     "text": [
      "INFO:tensorflow:Assets written to: .\\my_New_LSTM_model\\assets\n"
     ]
    },
    {
     "name": "stdout",
     "output_type": "stream",
     "text": [
      "12/12 [==============================] - 12s 826ms/step - loss: 1.3029 - accuracy: 0.3290 - val_loss: 1.2135 - val_accuracy: 0.4035\n",
      "Epoch 2/200\n",
      "12/12 [==============================] - ETA: 0s - loss: 1.2613 - accuracy: 0.3930"
     ]
    },
    {
     "name": "stderr",
     "output_type": "stream",
     "text": [
      "WARNING:absl:Found untraced functions such as lstm_cell_8_layer_call_fn, lstm_cell_8_layer_call_and_return_conditional_losses, lstm_cell_9_layer_call_fn, lstm_cell_9_layer_call_and_return_conditional_losses while saving (showing 4 of 4). These functions will not be directly callable after loading.\n"
     ]
    },
    {
     "name": "stdout",
     "output_type": "stream",
     "text": [
      "INFO:tensorflow:Assets written to: .\\my_New_LSTM_model\\assets\n"
     ]
    },
    {
     "name": "stderr",
     "output_type": "stream",
     "text": [
      "INFO:tensorflow:Assets written to: .\\my_New_LSTM_model\\assets\n"
     ]
    },
    {
     "name": "stdout",
     "output_type": "stream",
     "text": [
      "12/12 [==============================] - 12s 1s/step - loss: 1.2613 - accuracy: 0.3930 - val_loss: 1.2051 - val_accuracy: 0.4269\n",
      "Epoch 3/200\n",
      "12/12 [==============================] - ETA: 0s - loss: 1.2404 - accuracy: 0.4067"
     ]
    },
    {
     "name": "stderr",
     "output_type": "stream",
     "text": [
      "WARNING:absl:Found untraced functions such as lstm_cell_8_layer_call_fn, lstm_cell_8_layer_call_and_return_conditional_losses, lstm_cell_9_layer_call_fn, lstm_cell_9_layer_call_and_return_conditional_losses while saving (showing 4 of 4). These functions will not be directly callable after loading.\n"
     ]
    },
    {
     "name": "stdout",
     "output_type": "stream",
     "text": [
      "INFO:tensorflow:Assets written to: .\\my_New_LSTM_model\\assets\n"
     ]
    },
    {
     "name": "stderr",
     "output_type": "stream",
     "text": [
      "INFO:tensorflow:Assets written to: .\\my_New_LSTM_model\\assets\n"
     ]
    },
    {
     "name": "stdout",
     "output_type": "stream",
     "text": [
      "12/12 [==============================] - 14s 1s/step - loss: 1.2404 - accuracy: 0.4067 - val_loss: 1.1753 - val_accuracy: 0.4971\n",
      "Epoch 4/200\n",
      "12/12 [==============================] - 10s 830ms/step - loss: 1.1969 - accuracy: 0.4582 - val_loss: 1.1491 - val_accuracy: 0.4620\n",
      "Epoch 5/200\n",
      "12/12 [==============================] - ETA: 0s - loss: 1.1736 - accuracy: 0.4719"
     ]
    },
    {
     "name": "stderr",
     "output_type": "stream",
     "text": [
      "WARNING:absl:Found untraced functions such as lstm_cell_8_layer_call_fn, lstm_cell_8_layer_call_and_return_conditional_losses, lstm_cell_9_layer_call_fn, lstm_cell_9_layer_call_and_return_conditional_losses while saving (showing 4 of 4). These functions will not be directly callable after loading.\n"
     ]
    },
    {
     "name": "stdout",
     "output_type": "stream",
     "text": [
      "INFO:tensorflow:Assets written to: .\\my_New_LSTM_model\\assets\n"
     ]
    },
    {
     "name": "stderr",
     "output_type": "stream",
     "text": [
      "INFO:tensorflow:Assets written to: .\\my_New_LSTM_model\\assets\n"
     ]
    },
    {
     "name": "stdout",
     "output_type": "stream",
     "text": [
      "12/12 [==============================] - 14s 1s/step - loss: 1.1736 - accuracy: 0.4719 - val_loss: 1.1065 - val_accuracy: 0.5029\n",
      "Epoch 6/200\n",
      "12/12 [==============================] - ETA: 0s - loss: 1.1400 - accuracy: 0.4961"
     ]
    },
    {
     "name": "stderr",
     "output_type": "stream",
     "text": [
      "WARNING:absl:Found untraced functions such as lstm_cell_8_layer_call_fn, lstm_cell_8_layer_call_and_return_conditional_losses, lstm_cell_9_layer_call_fn, lstm_cell_9_layer_call_and_return_conditional_losses while saving (showing 4 of 4). These functions will not be directly callable after loading.\n"
     ]
    },
    {
     "name": "stdout",
     "output_type": "stream",
     "text": [
      "INFO:tensorflow:Assets written to: .\\my_New_LSTM_model\\assets\n"
     ]
    },
    {
     "name": "stderr",
     "output_type": "stream",
     "text": [
      "INFO:tensorflow:Assets written to: .\\my_New_LSTM_model\\assets\n"
     ]
    },
    {
     "name": "stdout",
     "output_type": "stream",
     "text": [
      "12/12 [==============================] - 15s 1s/step - loss: 1.1400 - accuracy: 0.4961 - val_loss: 1.0906 - val_accuracy: 0.5205\n",
      "Epoch 7/200\n",
      "12/12 [==============================] - 6s 546ms/step - loss: 1.1133 - accuracy: 0.5255 - val_loss: 1.1097 - val_accuracy: 0.5146\n",
      "Epoch 8/200\n",
      "12/12 [==============================] - ETA: 0s - loss: 1.1020 - accuracy: 0.5274"
     ]
    },
    {
     "name": "stderr",
     "output_type": "stream",
     "text": [
      "WARNING:absl:Found untraced functions such as lstm_cell_8_layer_call_fn, lstm_cell_8_layer_call_and_return_conditional_losses, lstm_cell_9_layer_call_fn, lstm_cell_9_layer_call_and_return_conditional_losses while saving (showing 4 of 4). These functions will not be directly callable after loading.\n"
     ]
    },
    {
     "name": "stdout",
     "output_type": "stream",
     "text": [
      "INFO:tensorflow:Assets written to: .\\my_New_LSTM_model\\assets\n"
     ]
    },
    {
     "name": "stderr",
     "output_type": "stream",
     "text": [
      "INFO:tensorflow:Assets written to: .\\my_New_LSTM_model\\assets\n"
     ]
    },
    {
     "name": "stdout",
     "output_type": "stream",
     "text": [
      "12/12 [==============================] - 11s 953ms/step - loss: 1.1020 - accuracy: 0.5274 - val_loss: 1.0998 - val_accuracy: 0.5263\n",
      "Epoch 9/200\n",
      "12/12 [==============================] - ETA: 0s - loss: 1.0912 - accuracy: 0.5379"
     ]
    },
    {
     "name": "stderr",
     "output_type": "stream",
     "text": [
      "WARNING:absl:Found untraced functions such as lstm_cell_8_layer_call_fn, lstm_cell_8_layer_call_and_return_conditional_losses, lstm_cell_9_layer_call_fn, lstm_cell_9_layer_call_and_return_conditional_losses while saving (showing 4 of 4). These functions will not be directly callable after loading.\n"
     ]
    },
    {
     "name": "stdout",
     "output_type": "stream",
     "text": [
      "INFO:tensorflow:Assets written to: .\\my_New_LSTM_model\\assets\n"
     ]
    },
    {
     "name": "stderr",
     "output_type": "stream",
     "text": [
      "INFO:tensorflow:Assets written to: .\\my_New_LSTM_model\\assets\n"
     ]
    },
    {
     "name": "stdout",
     "output_type": "stream",
     "text": [
      "12/12 [==============================] - 12s 1s/step - loss: 1.0912 - accuracy: 0.5379 - val_loss: 1.0728 - val_accuracy: 0.5322\n",
      "Epoch 10/200\n",
      "12/12 [==============================] - ETA: 0s - loss: 1.0623 - accuracy: 0.5437"
     ]
    },
    {
     "name": "stderr",
     "output_type": "stream",
     "text": [
      "WARNING:absl:Found untraced functions such as lstm_cell_8_layer_call_fn, lstm_cell_8_layer_call_and_return_conditional_losses, lstm_cell_9_layer_call_fn, lstm_cell_9_layer_call_and_return_conditional_losses while saving (showing 4 of 4). These functions will not be directly callable after loading.\n"
     ]
    },
    {
     "name": "stdout",
     "output_type": "stream",
     "text": [
      "INFO:tensorflow:Assets written to: .\\my_New_LSTM_model\\assets\n"
     ]
    },
    {
     "name": "stderr",
     "output_type": "stream",
     "text": [
      "INFO:tensorflow:Assets written to: .\\my_New_LSTM_model\\assets\n"
     ]
    },
    {
     "name": "stdout",
     "output_type": "stream",
     "text": [
      "12/12 [==============================] - 16s 1s/step - loss: 1.0623 - accuracy: 0.5437 - val_loss: 1.0396 - val_accuracy: 0.5380\n",
      "Epoch 11/200\n",
      "12/12 [==============================] - ETA: 0s - loss: 1.0411 - accuracy: 0.5646"
     ]
    },
    {
     "name": "stderr",
     "output_type": "stream",
     "text": [
      "WARNING:absl:Found untraced functions such as lstm_cell_8_layer_call_fn, lstm_cell_8_layer_call_and_return_conditional_losses, lstm_cell_9_layer_call_fn, lstm_cell_9_layer_call_and_return_conditional_losses while saving (showing 4 of 4). These functions will not be directly callable after loading.\n"
     ]
    },
    {
     "name": "stdout",
     "output_type": "stream",
     "text": [
      "INFO:tensorflow:Assets written to: .\\my_New_LSTM_model\\assets\n"
     ]
    },
    {
     "name": "stderr",
     "output_type": "stream",
     "text": [
      "INFO:tensorflow:Assets written to: .\\my_New_LSTM_model\\assets\n"
     ]
    },
    {
     "name": "stdout",
     "output_type": "stream",
     "text": [
      "12/12 [==============================] - 12s 1s/step - loss: 1.0411 - accuracy: 0.5646 - val_loss: 1.0644 - val_accuracy: 0.5731\n",
      "Epoch 12/200\n",
      "12/12 [==============================] - 9s 763ms/step - loss: 1.0293 - accuracy: 0.5796 - val_loss: 1.0335 - val_accuracy: 0.5439\n",
      "Epoch 13/200\n",
      "12/12 [==============================] - ETA: 0s - loss: 1.0138 - accuracy: 0.5875"
     ]
    },
    {
     "name": "stderr",
     "output_type": "stream",
     "text": [
      "WARNING:absl:Found untraced functions such as lstm_cell_8_layer_call_fn, lstm_cell_8_layer_call_and_return_conditional_losses, lstm_cell_9_layer_call_fn, lstm_cell_9_layer_call_and_return_conditional_losses while saving (showing 4 of 4). These functions will not be directly callable after loading.\n"
     ]
    },
    {
     "name": "stdout",
     "output_type": "stream",
     "text": [
      "INFO:tensorflow:Assets written to: .\\my_New_LSTM_model\\assets\n"
     ]
    },
    {
     "name": "stderr",
     "output_type": "stream",
     "text": [
      "INFO:tensorflow:Assets written to: .\\my_New_LSTM_model\\assets\n"
     ]
    },
    {
     "name": "stdout",
     "output_type": "stream",
     "text": [
      "12/12 [==============================] - 14s 1s/step - loss: 1.0138 - accuracy: 0.5875 - val_loss: 1.0147 - val_accuracy: 0.6023\n",
      "Epoch 14/200\n",
      "12/12 [==============================] - 12s 977ms/step - loss: 0.9929 - accuracy: 0.5907 - val_loss: 1.0284 - val_accuracy: 0.5848\n",
      "Epoch 15/200\n",
      "12/12 [==============================] - 12s 976ms/step - loss: 0.9799 - accuracy: 0.6077 - val_loss: 1.0112 - val_accuracy: 0.6023\n",
      "Epoch 16/200\n",
      "12/12 [==============================] - 12s 961ms/step - loss: 0.9604 - accuracy: 0.6031 - val_loss: 0.9987 - val_accuracy: 0.5848\n",
      "Epoch 17/200\n",
      "12/12 [==============================] - 13s 1s/step - loss: 0.9571 - accuracy: 0.6012 - val_loss: 0.9983 - val_accuracy: 0.5906\n",
      "Epoch 18/200\n",
      "12/12 [==============================] - 16s 1s/step - loss: 0.9260 - accuracy: 0.6208 - val_loss: 0.9813 - val_accuracy: 0.6023\n",
      "Epoch 19/200\n",
      "12/12 [==============================] - 16s 1s/step - loss: 0.9102 - accuracy: 0.6351 - val_loss: 1.0230 - val_accuracy: 0.5906\n",
      "Epoch 20/200\n",
      "12/12 [==============================] - 17s 1s/step - loss: 0.9008 - accuracy: 0.6410 - val_loss: 0.9970 - val_accuracy: 0.6023\n",
      "Epoch 21/200\n",
      "12/12 [==============================] - 13s 1s/step - loss: 0.8766 - accuracy: 0.6469 - val_loss: 0.9640 - val_accuracy: 0.6023\n",
      "Epoch 22/200\n",
      "12/12 [==============================] - 13s 1s/step - loss: 0.8445 - accuracy: 0.6717 - val_loss: 0.9979 - val_accuracy: 0.6023\n",
      "Epoch 23/200\n",
      "12/12 [==============================] - ETA: 0s - loss: 0.8406 - accuracy: 0.6547"
     ]
    },
    {
     "name": "stderr",
     "output_type": "stream",
     "text": [
      "WARNING:absl:Found untraced functions such as lstm_cell_8_layer_call_fn, lstm_cell_8_layer_call_and_return_conditional_losses, lstm_cell_9_layer_call_fn, lstm_cell_9_layer_call_and_return_conditional_losses while saving (showing 4 of 4). These functions will not be directly callable after loading.\n"
     ]
    },
    {
     "name": "stdout",
     "output_type": "stream",
     "text": [
      "INFO:tensorflow:Assets written to: .\\my_New_LSTM_model\\assets\n"
     ]
    },
    {
     "name": "stderr",
     "output_type": "stream",
     "text": [
      "INFO:tensorflow:Assets written to: .\\my_New_LSTM_model\\assets\n"
     ]
    },
    {
     "name": "stdout",
     "output_type": "stream",
     "text": [
      "12/12 [==============================] - 19s 2s/step - loss: 0.8406 - accuracy: 0.6547 - val_loss: 0.9898 - val_accuracy: 0.6082\n",
      "Epoch 24/200\n",
      "12/12 [==============================] - 8s 632ms/step - loss: 0.8128 - accuracy: 0.6723 - val_loss: 1.0060 - val_accuracy: 0.5906\n",
      "Epoch 25/200\n",
      "12/12 [==============================] - ETA: 0s - loss: 0.7873 - accuracy: 0.6789"
     ]
    },
    {
     "name": "stderr",
     "output_type": "stream",
     "text": [
      "WARNING:absl:Found untraced functions such as lstm_cell_8_layer_call_fn, lstm_cell_8_layer_call_and_return_conditional_losses, lstm_cell_9_layer_call_fn, lstm_cell_9_layer_call_and_return_conditional_losses while saving (showing 4 of 4). These functions will not be directly callable after loading.\n"
     ]
    },
    {
     "name": "stdout",
     "output_type": "stream",
     "text": [
      "INFO:tensorflow:Assets written to: .\\my_New_LSTM_model\\assets\n"
     ]
    },
    {
     "name": "stderr",
     "output_type": "stream",
     "text": [
      "INFO:tensorflow:Assets written to: .\\my_New_LSTM_model\\assets\n"
     ]
    },
    {
     "name": "stdout",
     "output_type": "stream",
     "text": [
      "12/12 [==============================] - 13s 1s/step - loss: 0.7873 - accuracy: 0.6789 - val_loss: 0.9694 - val_accuracy: 0.6433\n",
      "Epoch 26/200\n",
      "12/12 [==============================] - 8s 648ms/step - loss: 0.7620 - accuracy: 0.6971 - val_loss: 1.0059 - val_accuracy: 0.6140\n",
      "Epoch 27/200\n",
      "12/12 [==============================] - 8s 666ms/step - loss: 0.7310 - accuracy: 0.7128 - val_loss: 1.0001 - val_accuracy: 0.6023\n",
      "Epoch 28/200\n",
      "12/12 [==============================] - 9s 712ms/step - loss: 0.7097 - accuracy: 0.7265 - val_loss: 1.0071 - val_accuracy: 0.6082\n",
      "Epoch 29/200\n",
      "12/12 [==============================] - 8s 639ms/step - loss: 0.7105 - accuracy: 0.7148 - val_loss: 0.9598 - val_accuracy: 0.6140\n",
      "Epoch 30/200\n",
      "12/12 [==============================] - 7s 615ms/step - loss: 0.6915 - accuracy: 0.7167 - val_loss: 0.9837 - val_accuracy: 0.5906\n",
      "Epoch 31/200\n",
      "12/12 [==============================] - 7s 617ms/step - loss: 0.6796 - accuracy: 0.7376 - val_loss: 1.0452 - val_accuracy: 0.5789\n",
      "Epoch 32/200\n",
      "12/12 [==============================] - 8s 641ms/step - loss: 0.6483 - accuracy: 0.7409 - val_loss: 0.9915 - val_accuracy: 0.6140\n",
      "Epoch 33/200\n",
      "12/12 [==============================] - ETA: 0s - loss: 0.6534 - accuracy: 0.7376"
     ]
    },
    {
     "name": "stderr",
     "output_type": "stream",
     "text": [
      "WARNING:absl:Found untraced functions such as lstm_cell_8_layer_call_fn, lstm_cell_8_layer_call_and_return_conditional_losses, lstm_cell_9_layer_call_fn, lstm_cell_9_layer_call_and_return_conditional_losses while saving (showing 4 of 4). These functions will not be directly callable after loading.\n"
     ]
    },
    {
     "name": "stdout",
     "output_type": "stream",
     "text": [
      "INFO:tensorflow:Assets written to: .\\my_New_LSTM_model\\assets\n"
     ]
    },
    {
     "name": "stderr",
     "output_type": "stream",
     "text": [
      "INFO:tensorflow:Assets written to: .\\my_New_LSTM_model\\assets\n"
     ]
    },
    {
     "name": "stdout",
     "output_type": "stream",
     "text": [
      "12/12 [==============================] - 12s 1s/step - loss: 0.6534 - accuracy: 0.7376 - val_loss: 0.9986 - val_accuracy: 0.6608\n",
      "Epoch 34/200\n",
      "12/12 [==============================] - 11s 971ms/step - loss: 0.6254 - accuracy: 0.7578 - val_loss: 1.0749 - val_accuracy: 0.6433\n",
      "Epoch 35/200\n",
      "12/12 [==============================] - 13s 1s/step - loss: 0.6107 - accuracy: 0.7657 - val_loss: 0.9601 - val_accuracy: 0.6374\n",
      "Epoch 36/200\n",
      "12/12 [==============================] - 12s 1s/step - loss: 0.5813 - accuracy: 0.7709 - val_loss: 1.0331 - val_accuracy: 0.6257\n",
      "Epoch 37/200\n",
      "12/12 [==============================] - 12s 1s/step - loss: 0.5558 - accuracy: 0.7820 - val_loss: 1.1026 - val_accuracy: 0.6082\n",
      "Epoch 38/200\n",
      "12/12 [==============================] - 13s 1s/step - loss: 0.5089 - accuracy: 0.8003 - val_loss: 1.0417 - val_accuracy: 0.6257\n",
      "Epoch 39/200\n",
      "12/12 [==============================] - 12s 975ms/step - loss: 0.5042 - accuracy: 0.8035 - val_loss: 1.0701 - val_accuracy: 0.6199\n",
      "Epoch 40/200\n",
      "12/12 [==============================] - 12s 976ms/step - loss: 0.4789 - accuracy: 0.8179 - val_loss: 1.0767 - val_accuracy: 0.6199\n",
      "Epoch 41/200\n",
      "12/12 [==============================] - 12s 967ms/step - loss: 0.4662 - accuracy: 0.8251 - val_loss: 1.1377 - val_accuracy: 0.6082\n",
      "Epoch 42/200\n",
      "12/12 [==============================] - 12s 990ms/step - loss: 0.4356 - accuracy: 0.8375 - val_loss: 1.1390 - val_accuracy: 0.6491\n",
      "Epoch 43/200\n",
      "12/12 [==============================] - 12s 1s/step - loss: 0.4225 - accuracy: 0.8349 - val_loss: 1.1310 - val_accuracy: 0.6257\n",
      "Epoch 44/200\n",
      "12/12 [==============================] - 12s 1s/step - loss: 0.4119 - accuracy: 0.8466 - val_loss: 1.2409 - val_accuracy: 0.6257\n",
      "Epoch 45/200\n",
      "12/12 [==============================] - 13s 1s/step - loss: 0.4086 - accuracy: 0.8362 - val_loss: 1.2022 - val_accuracy: 0.6257\n",
      "Epoch 46/200\n",
      "12/12 [==============================] - 12s 1s/step - loss: 0.3822 - accuracy: 0.8597 - val_loss: 1.1369 - val_accuracy: 0.6199\n",
      "Epoch 47/200\n",
      "12/12 [==============================] - 12s 1s/step - loss: 0.3707 - accuracy: 0.8525 - val_loss: 1.2038 - val_accuracy: 0.6140\n",
      "Epoch 48/200\n",
      "12/12 [==============================] - 12s 981ms/step - loss: 0.3524 - accuracy: 0.8584 - val_loss: 1.2520 - val_accuracy: 0.6140\n",
      "Epoch 49/200\n",
      "12/12 [==============================] - 12s 1s/step - loss: 0.3454 - accuracy: 0.8655 - val_loss: 1.2772 - val_accuracy: 0.6140\n",
      "Epoch 50/200\n",
      "12/12 [==============================] - 13s 1s/step - loss: 0.3175 - accuracy: 0.8858 - val_loss: 1.2914 - val_accuracy: 0.6140\n",
      "Epoch 51/200\n",
      "12/12 [==============================] - 12s 996ms/step - loss: 0.3103 - accuracy: 0.8884 - val_loss: 1.2686 - val_accuracy: 0.6140\n",
      "Epoch 52/200\n",
      "12/12 [==============================] - 12s 1s/step - loss: 0.2709 - accuracy: 0.8982 - val_loss: 1.3393 - val_accuracy: 0.6082\n",
      "Epoch 53/200\n",
      "12/12 [==============================] - ETA: 0s - loss: 0.2563 - accuracy: 0.8995"
     ]
    },
    {
     "name": "stderr",
     "output_type": "stream",
     "text": [
      "WARNING:absl:Found untraced functions such as lstm_cell_8_layer_call_fn, lstm_cell_8_layer_call_and_return_conditional_losses, lstm_cell_9_layer_call_fn, lstm_cell_9_layer_call_and_return_conditional_losses while saving (showing 4 of 4). These functions will not be directly callable after loading.\n"
     ]
    },
    {
     "name": "stdout",
     "output_type": "stream",
     "text": [
      "INFO:tensorflow:Assets written to: .\\my_New_LSTM_model\\assets\n"
     ]
    },
    {
     "name": "stderr",
     "output_type": "stream",
     "text": [
      "INFO:tensorflow:Assets written to: .\\my_New_LSTM_model\\assets\n"
     ]
    },
    {
     "name": "stdout",
     "output_type": "stream",
     "text": [
      "12/12 [==============================] - 17s 1s/step - loss: 0.2563 - accuracy: 0.8995 - val_loss: 1.3063 - val_accuracy: 0.6667\n",
      "Epoch 54/200\n",
      "12/12 [==============================] - 8s 670ms/step - loss: 0.2651 - accuracy: 0.9014 - val_loss: 1.3627 - val_accuracy: 0.6140\n",
      "Epoch 55/200\n",
      "12/12 [==============================] - 10s 850ms/step - loss: 0.2808 - accuracy: 0.9008 - val_loss: 1.3140 - val_accuracy: 0.5965\n",
      "Epoch 56/200\n",
      "12/12 [==============================] - 9s 744ms/step - loss: 0.2564 - accuracy: 0.9073 - val_loss: 1.4100 - val_accuracy: 0.6257\n"
     ]
    }
   ],
   "source": [
    "LSTM_Model = model_LSTM.fit(X_train, Y_train, epochs=200, batch_size=128, validation_data=(X_test, Y_test), callbacks=[Call_Back_Early_Stop,Call_Back_Check_Hybrid])"
   ]
  },
  {
   "cell_type": "code",
   "execution_count": null,
   "id": "13fb9c9b",
   "metadata": {},
   "outputs": [],
   "source": []
  },
  {
   "cell_type": "code",
   "execution_count": 49,
   "id": "c5846dd7",
   "metadata": {},
   "outputs": [],
   "source": [
    "from tensorflow.keras.layers import LSTM, Dense, Bidirectional, Flatten, Dropout\n",
    "from keras.models import Sequential\n",
    "import keras\n",
    "import tensorflow as tf\n",
    "from tensorflow.keras import Input, Model"
   ]
  },
  {
   "cell_type": "code",
   "execution_count": 50,
   "id": "cc3ad64f",
   "metadata": {},
   "outputs": [
    {
     "name": "stdout",
     "output_type": "stream",
     "text": [
      "Model: \"sequential_5\"\n",
      "_________________________________________________________________\n",
      " Layer (type)                Output Shape              Param #   \n",
      "=================================================================\n",
      " bidirectional (Bidirectiona  (None, 50, 200)          81600     \n",
      " l)                                                              \n",
      "                                                                 \n",
      " flatten (Flatten)           (None, 10000)             0         \n",
      "                                                                 \n",
      " dense_10 (Dense)            (None, 4)                 40004     \n",
      "                                                                 \n",
      "=================================================================\n",
      "Total params: 121,604\n",
      "Trainable params: 121,604\n",
      "Non-trainable params: 0\n",
      "_________________________________________________________________\n"
     ]
    }
   ],
   "source": [
    "model = tf.keras.Sequential()\n",
    "model.add(tf.keras.Input(shape=(50,1)))\n",
    "model.add(tf.keras.layers.Bidirectional(tf.keras.layers.LSTM(100, return_sequences=True, recurrent_dropout=0.1)))\n",
    "model.add(Flatten())\n",
    "# model.add(Dense(256, activation='sigmoid'))\n",
    "# model.add(Dropout(0.5))\n",
    "# model.add(Dense(256, activation='sigmoid'))\n",
    "# model.add(Dropout(0.5))\n",
    "# model.add(Dense(128, activation='sigmoid'))\n",
    "# model.add(Dropout(0.5))\n",
    "# model.add(Dense(90, activation='sigmoid'))\n",
    "# model.add(Dropout(0.5))\n",
    "model.add(Dense(4, activation='softmax'))\n",
    "model.summary()"
   ]
  },
  {
   "cell_type": "code",
   "execution_count": 51,
   "id": "a12c71da",
   "metadata": {},
   "outputs": [],
   "source": [
    "model.compile(optimizer='adam', loss='categorical_crossentropy', metrics=['accuracy'])"
   ]
  },
  {
   "cell_type": "code",
   "execution_count": 52,
   "id": "e35e9e61",
   "metadata": {},
   "outputs": [],
   "source": [
    "from keras.callbacks import ReduceLROnPlateau"
   ]
  },
  {
   "cell_type": "code",
   "execution_count": 53,
   "id": "c231c60d",
   "metadata": {},
   "outputs": [],
   "source": [
    "learning_rate_reduction = ReduceLROnPlateau(monitor='val_accuracy', patience=3, verbose=1, factor=0.5,min_lr=0.0001)"
   ]
  },
  {
   "cell_type": "code",
   "execution_count": 56,
   "id": "e2239c74",
   "metadata": {},
   "outputs": [
    {
     "name": "stdout",
     "output_type": "stream",
     "text": [
      "Epoch 1/200\n",
      "48/48 [==============================] - 8s 127ms/step - loss: 1.2187 - accuracy: 0.4315 - val_loss: 1.0571 - val_accuracy: 0.5497 - lr: 0.0010\n",
      "Epoch 2/200\n",
      "48/48 [==============================] - 6s 118ms/step - loss: 1.1333 - accuracy: 0.5183 - val_loss: 1.1091 - val_accuracy: 0.4971 - lr: 0.0010\n",
      "Epoch 3/200\n",
      "48/48 [==============================] - 6s 124ms/step - loss: 1.0762 - accuracy: 0.5470 - val_loss: 1.0808 - val_accuracy: 0.5556 - lr: 0.0010\n",
      "Epoch 4/200\n",
      "48/48 [==============================] - 8s 170ms/step - loss: 1.0459 - accuracy: 0.5490 - val_loss: 0.9858 - val_accuracy: 0.5848 - lr: 0.0010\n",
      "Epoch 5/200\n",
      "48/48 [==============================] - 8s 162ms/step - loss: 1.0425 - accuracy: 0.5548 - val_loss: 0.9787 - val_accuracy: 0.5965 - lr: 0.0010\n",
      "Epoch 6/200\n",
      "48/48 [==============================] - 8s 163ms/step - loss: 0.9951 - accuracy: 0.5855 - val_loss: 1.1066 - val_accuracy: 0.5439 - lr: 0.0010\n",
      "Epoch 7/200\n",
      "48/48 [==============================] - 8s 158ms/step - loss: 0.9863 - accuracy: 0.5946 - val_loss: 0.9469 - val_accuracy: 0.5965 - lr: 0.0010\n",
      "Epoch 8/200\n",
      "48/48 [==============================] - ETA: 0s - loss: 0.9506 - accuracy: 0.5960\n",
      "Epoch 8: ReduceLROnPlateau reducing learning rate to 0.0005000000237487257.\n",
      "48/48 [==============================] - 8s 161ms/step - loss: 0.9506 - accuracy: 0.5960 - val_loss: 0.9566 - val_accuracy: 0.5789 - lr: 0.0010\n",
      "Epoch 9/200\n",
      "48/48 [==============================] - 8s 158ms/step - loss: 0.9009 - accuracy: 0.6247 - val_loss: 0.9271 - val_accuracy: 0.6550 - lr: 5.0000e-04\n",
      "Epoch 10/200\n",
      "48/48 [==============================] - 8s 162ms/step - loss: 0.8821 - accuracy: 0.6416 - val_loss: 0.9395 - val_accuracy: 0.5906 - lr: 5.0000e-04\n",
      "Epoch 11/200\n",
      "48/48 [==============================] - 8s 164ms/step - loss: 0.8576 - accuracy: 0.6638 - val_loss: 0.9614 - val_accuracy: 0.5906 - lr: 5.0000e-04\n",
      "Epoch 12/200\n",
      "48/48 [==============================] - ETA: 0s - loss: 0.8689 - accuracy: 0.6527\n",
      "Epoch 12: ReduceLROnPlateau reducing learning rate to 0.0002500000118743628.\n",
      "48/48 [==============================] - 8s 160ms/step - loss: 0.8689 - accuracy: 0.6527 - val_loss: 0.9391 - val_accuracy: 0.6257 - lr: 5.0000e-04\n",
      "Epoch 13/200\n",
      "48/48 [==============================] - 8s 162ms/step - loss: 0.8234 - accuracy: 0.6678 - val_loss: 0.9119 - val_accuracy: 0.6199 - lr: 2.5000e-04\n",
      "Epoch 14/200\n",
      "48/48 [==============================] - 8s 161ms/step - loss: 0.8091 - accuracy: 0.6789 - val_loss: 0.9220 - val_accuracy: 0.6257 - lr: 2.5000e-04\n",
      "Epoch 15/200\n",
      "48/48 [==============================] - 8s 161ms/step - loss: 0.7945 - accuracy: 0.6821 - val_loss: 0.8925 - val_accuracy: 0.6608 - lr: 2.5000e-04\n",
      "Epoch 16/200\n",
      "48/48 [==============================] - 8s 162ms/step - loss: 0.7843 - accuracy: 0.6808 - val_loss: 0.8985 - val_accuracy: 0.6374 - lr: 2.5000e-04\n",
      "Epoch 17/200\n",
      "48/48 [==============================] - 8s 166ms/step - loss: 0.7917 - accuracy: 0.6821 - val_loss: 0.8987 - val_accuracy: 0.6550 - lr: 2.5000e-04\n",
      "Epoch 18/200\n",
      "48/48 [==============================] - ETA: 0s - loss: 0.7727 - accuracy: 0.6939\n",
      "Epoch 18: ReduceLROnPlateau reducing learning rate to 0.0001250000059371814.\n",
      "48/48 [==============================] - 8s 170ms/step - loss: 0.7727 - accuracy: 0.6939 - val_loss: 0.9038 - val_accuracy: 0.6550 - lr: 2.5000e-04\n",
      "Epoch 19/200\n",
      "48/48 [==============================] - 8s 167ms/step - loss: 0.7549 - accuracy: 0.7063 - val_loss: 0.8910 - val_accuracy: 0.6491 - lr: 1.2500e-04\n",
      "Epoch 20/200\n",
      "48/48 [==============================] - 8s 169ms/step - loss: 0.7468 - accuracy: 0.7102 - val_loss: 0.8926 - val_accuracy: 0.6550 - lr: 1.2500e-04\n",
      "Epoch 21/200\n",
      "48/48 [==============================] - ETA: 0s - loss: 0.7388 - accuracy: 0.7050\n",
      "Epoch 21: ReduceLROnPlateau reducing learning rate to 0.0001.\n",
      "48/48 [==============================] - 8s 166ms/step - loss: 0.7388 - accuracy: 0.7050 - val_loss: 0.8983 - val_accuracy: 0.6433 - lr: 1.2500e-04\n",
      "Epoch 22/200\n",
      "48/48 [==============================] - 8s 170ms/step - loss: 0.7301 - accuracy: 0.7102 - val_loss: 0.9009 - val_accuracy: 0.6433 - lr: 1.0000e-04\n",
      "Epoch 23/200\n",
      "48/48 [==============================] - 8s 168ms/step - loss: 0.7306 - accuracy: 0.7102 - val_loss: 0.9062 - val_accuracy: 0.6433 - lr: 1.0000e-04\n",
      "Epoch 24/200\n",
      "48/48 [==============================] - 8s 170ms/step - loss: 0.7280 - accuracy: 0.7141 - val_loss: 0.9065 - val_accuracy: 0.6550 - lr: 1.0000e-04\n",
      "Epoch 25/200\n",
      "48/48 [==============================] - 8s 172ms/step - loss: 0.7241 - accuracy: 0.7148 - val_loss: 0.8994 - val_accuracy: 0.6433 - lr: 1.0000e-04\n",
      "Epoch 26/200\n",
      "48/48 [==============================] - 8s 171ms/step - loss: 0.7218 - accuracy: 0.7252 - val_loss: 0.9073 - val_accuracy: 0.6433 - lr: 1.0000e-04\n",
      "Epoch 27/200\n",
      "48/48 [==============================] - 8s 171ms/step - loss: 0.7200 - accuracy: 0.7167 - val_loss: 0.8906 - val_accuracy: 0.6608 - lr: 1.0000e-04\n",
      "Epoch 28/200\n",
      "48/48 [==============================] - 9s 178ms/step - loss: 0.7085 - accuracy: 0.7245 - val_loss: 0.8952 - val_accuracy: 0.6725 - lr: 1.0000e-04\n",
      "Epoch 29/200\n",
      "48/48 [==============================] - 9s 188ms/step - loss: 0.7097 - accuracy: 0.7232 - val_loss: 0.8923 - val_accuracy: 0.6491 - lr: 1.0000e-04\n",
      "Epoch 30/200\n",
      "48/48 [==============================] - 9s 178ms/step - loss: 0.7061 - accuracy: 0.7200 - val_loss: 0.8912 - val_accuracy: 0.6550 - lr: 1.0000e-04\n",
      "Epoch 31/200\n",
      "48/48 [==============================] - 9s 182ms/step - loss: 0.6978 - accuracy: 0.7245 - val_loss: 0.9064 - val_accuracy: 0.6491 - lr: 1.0000e-04\n",
      "Epoch 32/200\n",
      "48/48 [==============================] - 9s 183ms/step - loss: 0.7017 - accuracy: 0.7278 - val_loss: 0.9022 - val_accuracy: 0.6491 - lr: 1.0000e-04\n",
      "Epoch 33/200\n",
      "48/48 [==============================] - 9s 187ms/step - loss: 0.6946 - accuracy: 0.7272 - val_loss: 0.9091 - val_accuracy: 0.6491 - lr: 1.0000e-04\n",
      "Epoch 34/200\n",
      "48/48 [==============================] - 9s 191ms/step - loss: 0.6891 - accuracy: 0.7317 - val_loss: 0.9087 - val_accuracy: 0.6491 - lr: 1.0000e-04\n",
      "Epoch 35/200\n",
      "48/48 [==============================] - 10s 204ms/step - loss: 0.6846 - accuracy: 0.7285 - val_loss: 0.9099 - val_accuracy: 0.6550 - lr: 1.0000e-04\n",
      "Epoch 36/200\n",
      "48/48 [==============================] - 10s 201ms/step - loss: 0.6808 - accuracy: 0.7291 - val_loss: 0.9035 - val_accuracy: 0.6433 - lr: 1.0000e-04\n",
      "Epoch 37/200\n",
      "48/48 [==============================] - 10s 213ms/step - loss: 0.6793 - accuracy: 0.7285 - val_loss: 0.9081 - val_accuracy: 0.6550 - lr: 1.0000e-04\n",
      "Epoch 38/200\n",
      "48/48 [==============================] - 12s 249ms/step - loss: 0.6739 - accuracy: 0.7402 - val_loss: 0.9139 - val_accuracy: 0.6433 - lr: 1.0000e-04\n",
      "Epoch 39/200\n",
      "48/48 [==============================] - 13s 276ms/step - loss: 0.6733 - accuracy: 0.7356 - val_loss: 0.9041 - val_accuracy: 0.6550 - lr: 1.0000e-04\n",
      "Epoch 40/200\n",
      "48/48 [==============================] - 10s 199ms/step - loss: 0.6698 - accuracy: 0.7389 - val_loss: 0.9192 - val_accuracy: 0.6550 - lr: 1.0000e-04\n",
      "Epoch 41/200\n",
      "48/48 [==============================] - 9s 197ms/step - loss: 0.6595 - accuracy: 0.7500 - val_loss: 0.9143 - val_accuracy: 0.6667 - lr: 1.0000e-04\n",
      "Epoch 42/200\n",
      "48/48 [==============================] - 9s 195ms/step - loss: 0.6619 - accuracy: 0.7441 - val_loss: 0.9160 - val_accuracy: 0.6433 - lr: 1.0000e-04\n",
      "Epoch 43/200\n",
      "48/48 [==============================] - 11s 233ms/step - loss: 0.6494 - accuracy: 0.7552 - val_loss: 0.9194 - val_accuracy: 0.6433 - lr: 1.0000e-04\n",
      "Epoch 44/200\n",
      "48/48 [==============================] - 11s 227ms/step - loss: 0.6505 - accuracy: 0.7513 - val_loss: 0.9251 - val_accuracy: 0.6491 - lr: 1.0000e-04\n",
      "Epoch 45/200\n",
      "48/48 [==============================] - 10s 206ms/step - loss: 0.6459 - accuracy: 0.7500 - val_loss: 0.9222 - val_accuracy: 0.6667 - lr: 1.0000e-04\n",
      "Epoch 46/200\n",
      "48/48 [==============================] - 10s 201ms/step - loss: 0.6386 - accuracy: 0.7546 - val_loss: 0.9124 - val_accuracy: 0.6667 - lr: 1.0000e-04\n",
      "Epoch 47/200\n",
      "48/48 [==============================] - 9s 189ms/step - loss: 0.6359 - accuracy: 0.7585 - val_loss: 0.9301 - val_accuracy: 0.6491 - lr: 1.0000e-04\n",
      "Epoch 48/200\n",
      "48/48 [==============================] - 9s 181ms/step - loss: 0.6379 - accuracy: 0.7461 - val_loss: 0.9278 - val_accuracy: 0.6667 - lr: 1.0000e-04\n",
      "Epoch 49/200\n",
      "48/48 [==============================] - 9s 179ms/step - loss: 0.6285 - accuracy: 0.7565 - val_loss: 0.9306 - val_accuracy: 0.6550 - lr: 1.0000e-04\n",
      "Epoch 50/200\n",
      "48/48 [==============================] - 9s 191ms/step - loss: 0.6208 - accuracy: 0.7611 - val_loss: 0.9333 - val_accuracy: 0.6491 - lr: 1.0000e-04\n",
      "Epoch 51/200\n",
      "48/48 [==============================] - 10s 204ms/step - loss: 0.6186 - accuracy: 0.7657 - val_loss: 0.9381 - val_accuracy: 0.6725 - lr: 1.0000e-04\n",
      "Epoch 52/200\n",
      "48/48 [==============================] - 9s 196ms/step - loss: 0.6114 - accuracy: 0.7702 - val_loss: 0.9238 - val_accuracy: 0.6608 - lr: 1.0000e-04\n",
      "Epoch 53/200\n",
      "48/48 [==============================] - 11s 236ms/step - loss: 0.6109 - accuracy: 0.7650 - val_loss: 0.9382 - val_accuracy: 0.6550 - lr: 1.0000e-04\n",
      "Epoch 54/200\n",
      "48/48 [==============================] - 11s 228ms/step - loss: 0.6076 - accuracy: 0.7722 - val_loss: 0.9312 - val_accuracy: 0.6550 - lr: 1.0000e-04\n",
      "Epoch 55/200\n",
      "48/48 [==============================] - 12s 243ms/step - loss: 0.6043 - accuracy: 0.7709 - val_loss: 0.9530 - val_accuracy: 0.6667 - lr: 1.0000e-04\n",
      "Epoch 56/200\n",
      "48/48 [==============================] - 11s 227ms/step - loss: 0.6071 - accuracy: 0.7748 - val_loss: 0.9540 - val_accuracy: 0.6550 - lr: 1.0000e-04\n",
      "Epoch 57/200\n",
      "48/48 [==============================] - 11s 235ms/step - loss: 0.6052 - accuracy: 0.7670 - val_loss: 0.9547 - val_accuracy: 0.6608 - lr: 1.0000e-04\n",
      "Epoch 58/200\n",
      "48/48 [==============================] - 11s 230ms/step - loss: 0.5980 - accuracy: 0.7742 - val_loss: 0.9343 - val_accuracy: 0.6667 - lr: 1.0000e-04\n",
      "Epoch 59/200\n",
      "48/48 [==============================] - 9s 185ms/step - loss: 0.5892 - accuracy: 0.7748 - val_loss: 0.9536 - val_accuracy: 0.6608 - lr: 1.0000e-04\n",
      "Epoch 60/200\n",
      "48/48 [==============================] - 9s 188ms/step - loss: 0.5939 - accuracy: 0.7702 - val_loss: 0.9734 - val_accuracy: 0.6608 - lr: 1.0000e-04\n",
      "Epoch 61/200\n",
      "48/48 [==============================] - 9s 182ms/step - loss: 0.5822 - accuracy: 0.7794 - val_loss: 0.9402 - val_accuracy: 0.6608 - lr: 1.0000e-04\n",
      "Epoch 62/200\n",
      "48/48 [==============================] - 9s 187ms/step - loss: 0.5862 - accuracy: 0.7839 - val_loss: 0.9574 - val_accuracy: 0.6491 - lr: 1.0000e-04\n",
      "Epoch 63/200\n",
      "48/48 [==============================] - 9s 187ms/step - loss: 0.5823 - accuracy: 0.7794 - val_loss: 0.9677 - val_accuracy: 0.6608 - lr: 1.0000e-04\n",
      "Epoch 64/200\n",
      "48/48 [==============================] - 9s 183ms/step - loss: 0.5700 - accuracy: 0.7781 - val_loss: 0.9520 - val_accuracy: 0.6725 - lr: 1.0000e-04\n",
      "Epoch 65/200\n",
      "48/48 [==============================] - 8s 176ms/step - loss: 0.5678 - accuracy: 0.7833 - val_loss: 0.9614 - val_accuracy: 0.6725 - lr: 1.0000e-04\n",
      "Epoch 66/200\n",
      "48/48 [==============================] - 9s 185ms/step - loss: 0.5671 - accuracy: 0.7839 - val_loss: 0.9712 - val_accuracy: 0.6784 - lr: 1.0000e-04\n",
      "Epoch 67/200\n",
      "48/48 [==============================] - 9s 186ms/step - loss: 0.5696 - accuracy: 0.7866 - val_loss: 0.9565 - val_accuracy: 0.6550 - lr: 1.0000e-04\n",
      "Epoch 68/200\n",
      "48/48 [==============================] - 9s 190ms/step - loss: 0.5635 - accuracy: 0.7839 - val_loss: 0.9778 - val_accuracy: 0.6784 - lr: 1.0000e-04\n",
      "Epoch 69/200\n",
      "48/48 [==============================] - 10s 200ms/step - loss: 0.5582 - accuracy: 0.7950 - val_loss: 0.9635 - val_accuracy: 0.6842 - lr: 1.0000e-04\n",
      "Epoch 70/200\n",
      "48/48 [==============================] - 10s 211ms/step - loss: 0.5456 - accuracy: 0.7963 - val_loss: 0.9815 - val_accuracy: 0.6550 - lr: 1.0000e-04\n",
      "Epoch 71/200\n",
      "48/48 [==============================] - 10s 200ms/step - loss: 0.5443 - accuracy: 0.7990 - val_loss: 0.9712 - val_accuracy: 0.6842 - lr: 1.0000e-04\n",
      "Epoch 72/200\n",
      "48/48 [==============================] - 9s 183ms/step - loss: 0.5389 - accuracy: 0.7977 - val_loss: 0.9763 - val_accuracy: 0.6491 - lr: 1.0000e-04\n",
      "Epoch 73/200\n",
      "48/48 [==============================] - 8s 166ms/step - loss: 0.5364 - accuracy: 0.8016 - val_loss: 0.9809 - val_accuracy: 0.6608 - lr: 1.0000e-04\n",
      "Epoch 74/200\n",
      "48/48 [==============================] - 8s 169ms/step - loss: 0.5382 - accuracy: 0.7996 - val_loss: 0.9883 - val_accuracy: 0.6550 - lr: 1.0000e-04\n",
      "Epoch 75/200\n",
      "48/48 [==============================] - 8s 176ms/step - loss: 0.5395 - accuracy: 0.8022 - val_loss: 0.9958 - val_accuracy: 0.6725 - lr: 1.0000e-04\n",
      "Epoch 76/200\n",
      "48/48 [==============================] - 8s 169ms/step - loss: 0.5314 - accuracy: 0.7918 - val_loss: 0.9928 - val_accuracy: 0.6667 - lr: 1.0000e-04\n",
      "Epoch 77/200\n",
      "48/48 [==============================] - 8s 170ms/step - loss: 0.5248 - accuracy: 0.8009 - val_loss: 0.9974 - val_accuracy: 0.6608 - lr: 1.0000e-04\n",
      "Epoch 78/200\n",
      "48/48 [==============================] - 9s 183ms/step - loss: 0.5261 - accuracy: 0.8022 - val_loss: 0.9854 - val_accuracy: 0.6667 - lr: 1.0000e-04\n",
      "Epoch 79/200\n",
      "48/48 [==============================] - 8s 175ms/step - loss: 0.5195 - accuracy: 0.8048 - val_loss: 0.9932 - val_accuracy: 0.6550 - lr: 1.0000e-04\n",
      "Epoch 80/200\n",
      "48/48 [==============================] - 8s 176ms/step - loss: 0.5108 - accuracy: 0.8172 - val_loss: 1.0062 - val_accuracy: 0.6550 - lr: 1.0000e-04\n",
      "Epoch 81/200\n",
      "48/48 [==============================] - 8s 171ms/step - loss: 0.5036 - accuracy: 0.8198 - val_loss: 1.0079 - val_accuracy: 0.6725 - lr: 1.0000e-04\n",
      "Epoch 82/200\n",
      "48/48 [==============================] - 8s 167ms/step - loss: 0.4935 - accuracy: 0.8179 - val_loss: 1.0071 - val_accuracy: 0.6608 - lr: 1.0000e-04\n",
      "Epoch 83/200\n",
      "48/48 [==============================] - 8s 171ms/step - loss: 0.5076 - accuracy: 0.8211 - val_loss: 0.9917 - val_accuracy: 0.6725 - lr: 1.0000e-04\n",
      "Epoch 84/200\n",
      "48/48 [==============================] - 8s 174ms/step - loss: 0.4999 - accuracy: 0.8153 - val_loss: 1.0055 - val_accuracy: 0.6725 - lr: 1.0000e-04\n",
      "Epoch 85/200\n",
      "48/48 [==============================] - 8s 168ms/step - loss: 0.5001 - accuracy: 0.8205 - val_loss: 1.0099 - val_accuracy: 0.6608 - lr: 1.0000e-04\n",
      "Epoch 86/200\n",
      "48/48 [==============================] - 8s 165ms/step - loss: 0.4969 - accuracy: 0.8198 - val_loss: 0.9958 - val_accuracy: 0.6725 - lr: 1.0000e-04\n",
      "Epoch 87/200\n",
      "48/48 [==============================] - 8s 170ms/step - loss: 0.5007 - accuracy: 0.8172 - val_loss: 0.9978 - val_accuracy: 0.6784 - lr: 1.0000e-04\n",
      "Epoch 88/200\n",
      "48/48 [==============================] - 8s 174ms/step - loss: 0.4869 - accuracy: 0.8211 - val_loss: 0.9988 - val_accuracy: 0.6901 - lr: 1.0000e-04\n",
      "Epoch 89/200\n",
      "48/48 [==============================] - 8s 165ms/step - loss: 0.4827 - accuracy: 0.8198 - val_loss: 1.0068 - val_accuracy: 0.6550 - lr: 1.0000e-04\n",
      "Epoch 90/200\n",
      "48/48 [==============================] - 8s 168ms/step - loss: 0.4722 - accuracy: 0.8244 - val_loss: 1.0233 - val_accuracy: 0.6491 - lr: 1.0000e-04\n",
      "Epoch 91/200\n",
      "48/48 [==============================] - 8s 168ms/step - loss: 0.4671 - accuracy: 0.8309 - val_loss: 1.0256 - val_accuracy: 0.6608 - lr: 1.0000e-04\n",
      "Epoch 92/200\n",
      "48/48 [==============================] - 8s 165ms/step - loss: 0.4654 - accuracy: 0.8296 - val_loss: 1.0203 - val_accuracy: 0.6608 - lr: 1.0000e-04\n",
      "Epoch 93/200\n",
      "48/48 [==============================] - 8s 167ms/step - loss: 0.4679 - accuracy: 0.8336 - val_loss: 1.0304 - val_accuracy: 0.6608 - lr: 1.0000e-04\n",
      "Epoch 94/200\n",
      "48/48 [==============================] - 8s 176ms/step - loss: 0.4711 - accuracy: 0.8309 - val_loss: 1.0339 - val_accuracy: 0.6725 - lr: 1.0000e-04\n",
      "Epoch 95/200\n",
      "48/48 [==============================] - 8s 168ms/step - loss: 0.4647 - accuracy: 0.8303 - val_loss: 1.0119 - val_accuracy: 0.6608 - lr: 1.0000e-04\n",
      "Epoch 96/200\n",
      "48/48 [==============================] - 8s 166ms/step - loss: 0.4611 - accuracy: 0.8283 - val_loss: 1.0197 - val_accuracy: 0.6667 - lr: 1.0000e-04\n",
      "Epoch 97/200\n",
      "48/48 [==============================] - 8s 170ms/step - loss: 0.4578 - accuracy: 0.8303 - val_loss: 1.0517 - val_accuracy: 0.6667 - lr: 1.0000e-04\n",
      "Epoch 98/200\n",
      "48/48 [==============================] - 8s 167ms/step - loss: 0.4483 - accuracy: 0.8349 - val_loss: 1.0258 - val_accuracy: 0.6725 - lr: 1.0000e-04\n"
     ]
    },
    {
     "name": "stdout",
     "output_type": "stream",
     "text": [
      "Epoch 99/200\n",
      "48/48 [==============================] - 8s 168ms/step - loss: 0.4544 - accuracy: 0.8316 - val_loss: 1.0409 - val_accuracy: 0.6608 - lr: 1.0000e-04\n",
      "Epoch 100/200\n",
      "48/48 [==============================] - 8s 167ms/step - loss: 0.4462 - accuracy: 0.8290 - val_loss: 1.0281 - val_accuracy: 0.6725 - lr: 1.0000e-04\n",
      "Epoch 101/200\n",
      "48/48 [==============================] - 9s 194ms/step - loss: 0.4438 - accuracy: 0.8329 - val_loss: 1.0482 - val_accuracy: 0.6608 - lr: 1.0000e-04\n",
      "Epoch 102/200\n",
      "48/48 [==============================] - 8s 172ms/step - loss: 0.4352 - accuracy: 0.8427 - val_loss: 1.0464 - val_accuracy: 0.6725 - lr: 1.0000e-04\n",
      "Epoch 103/200\n",
      "48/48 [==============================] - 9s 181ms/step - loss: 0.4305 - accuracy: 0.8512 - val_loss: 1.0444 - val_accuracy: 0.6667 - lr: 1.0000e-04\n",
      "Epoch 104/200\n",
      "48/48 [==============================] - 8s 167ms/step - loss: 0.4318 - accuracy: 0.8427 - val_loss: 1.0272 - val_accuracy: 0.6725 - lr: 1.0000e-04\n",
      "Epoch 105/200\n",
      "48/48 [==============================] - 8s 167ms/step - loss: 0.4370 - accuracy: 0.8414 - val_loss: 1.0515 - val_accuracy: 0.6784 - lr: 1.0000e-04\n",
      "Epoch 106/200\n",
      "48/48 [==============================] - 8s 166ms/step - loss: 0.4264 - accuracy: 0.8492 - val_loss: 1.0413 - val_accuracy: 0.6784 - lr: 1.0000e-04\n",
      "Epoch 107/200\n",
      "48/48 [==============================] - 8s 165ms/step - loss: 0.4279 - accuracy: 0.8440 - val_loss: 1.0340 - val_accuracy: 0.6784 - lr: 1.0000e-04\n",
      "Epoch 108/200\n",
      "48/48 [==============================] - 8s 166ms/step - loss: 0.4151 - accuracy: 0.8525 - val_loss: 1.0404 - val_accuracy: 0.6725 - lr: 1.0000e-04\n",
      "Epoch 109/200\n",
      "48/48 [==============================] - 8s 165ms/step - loss: 0.4115 - accuracy: 0.8460 - val_loss: 1.0673 - val_accuracy: 0.6608 - lr: 1.0000e-04\n",
      "Epoch 110/200\n",
      "48/48 [==============================] - 8s 174ms/step - loss: 0.4107 - accuracy: 0.8505 - val_loss: 1.0498 - val_accuracy: 0.6784 - lr: 1.0000e-04\n",
      "Epoch 111/200\n",
      "48/48 [==============================] - 8s 169ms/step - loss: 0.4089 - accuracy: 0.8499 - val_loss: 1.0731 - val_accuracy: 0.6784 - lr: 1.0000e-04\n",
      "Epoch 112/200\n",
      "48/48 [==============================] - 8s 169ms/step - loss: 0.4108 - accuracy: 0.8486 - val_loss: 1.0623 - val_accuracy: 0.6608 - lr: 1.0000e-04\n",
      "Epoch 113/200\n",
      "48/48 [==============================] - 8s 169ms/step - loss: 0.4054 - accuracy: 0.8538 - val_loss: 1.0556 - val_accuracy: 0.6725 - lr: 1.0000e-04\n",
      "Epoch 114/200\n",
      "48/48 [==============================] - 8s 168ms/step - loss: 0.3950 - accuracy: 0.8590 - val_loss: 1.0655 - val_accuracy: 0.6725 - lr: 1.0000e-04\n",
      "Epoch 115/200\n",
      "48/48 [==============================] - 9s 180ms/step - loss: 0.3918 - accuracy: 0.8544 - val_loss: 1.0576 - val_accuracy: 0.6784 - lr: 1.0000e-04\n",
      "Epoch 116/200\n",
      "48/48 [==============================] - 8s 174ms/step - loss: 0.3917 - accuracy: 0.8668 - val_loss: 1.0659 - val_accuracy: 0.6725 - lr: 1.0000e-04\n",
      "Epoch 117/200\n",
      "48/48 [==============================] - 8s 175ms/step - loss: 0.3863 - accuracy: 0.8629 - val_loss: 1.0660 - val_accuracy: 0.6725 - lr: 1.0000e-04\n",
      "Epoch 118/200\n",
      "48/48 [==============================] - 8s 175ms/step - loss: 0.3835 - accuracy: 0.8623 - val_loss: 1.0659 - val_accuracy: 0.6725 - lr: 1.0000e-04\n",
      "Epoch 119/200\n",
      "48/48 [==============================] - 8s 173ms/step - loss: 0.3878 - accuracy: 0.8675 - val_loss: 1.0722 - val_accuracy: 0.6725 - lr: 1.0000e-04\n",
      "Epoch 120/200\n",
      "48/48 [==============================] - 8s 167ms/step - loss: 0.3740 - accuracy: 0.8603 - val_loss: 1.0857 - val_accuracy: 0.6491 - lr: 1.0000e-04\n",
      "Epoch 121/200\n",
      "48/48 [==============================] - 8s 168ms/step - loss: 0.3744 - accuracy: 0.8642 - val_loss: 1.0799 - val_accuracy: 0.6608 - lr: 1.0000e-04\n",
      "Epoch 122/200\n",
      "48/48 [==============================] - 8s 169ms/step - loss: 0.3714 - accuracy: 0.8610 - val_loss: 1.1035 - val_accuracy: 0.6550 - lr: 1.0000e-04\n",
      "Epoch 123/200\n",
      "48/48 [==============================] - 8s 169ms/step - loss: 0.3630 - accuracy: 0.8727 - val_loss: 1.0809 - val_accuracy: 0.6842 - lr: 1.0000e-04\n",
      "Epoch 124/200\n",
      "48/48 [==============================] - 8s 173ms/step - loss: 0.3742 - accuracy: 0.8610 - val_loss: 1.0895 - val_accuracy: 0.6901 - lr: 1.0000e-04\n",
      "Epoch 125/200\n",
      "48/48 [==============================] - 8s 173ms/step - loss: 0.3607 - accuracy: 0.8786 - val_loss: 1.0661 - val_accuracy: 0.6842 - lr: 1.0000e-04\n",
      "Epoch 126/200\n",
      "48/48 [==============================] - 8s 177ms/step - loss: 0.3584 - accuracy: 0.8760 - val_loss: 1.0830 - val_accuracy: 0.6725 - lr: 1.0000e-04\n",
      "Epoch 127/200\n",
      "48/48 [==============================] - 8s 164ms/step - loss: 0.3511 - accuracy: 0.8799 - val_loss: 1.0833 - val_accuracy: 0.6725 - lr: 1.0000e-04\n",
      "Epoch 128/200\n",
      "48/48 [==============================] - 8s 173ms/step - loss: 0.3538 - accuracy: 0.8688 - val_loss: 1.1349 - val_accuracy: 0.6374 - lr: 1.0000e-04\n",
      "Epoch 129/200\n",
      "48/48 [==============================] - 8s 164ms/step - loss: 0.3626 - accuracy: 0.8747 - val_loss: 1.0825 - val_accuracy: 0.6784 - lr: 1.0000e-04\n",
      "Epoch 130/200\n",
      "48/48 [==============================] - 8s 172ms/step - loss: 0.3421 - accuracy: 0.8884 - val_loss: 1.0895 - val_accuracy: 0.6667 - lr: 1.0000e-04\n",
      "Epoch 131/200\n",
      "48/48 [==============================] - 9s 189ms/step - loss: 0.3498 - accuracy: 0.8792 - val_loss: 1.0986 - val_accuracy: 0.6608 - lr: 1.0000e-04\n",
      "Epoch 132/200\n",
      "48/48 [==============================] - 8s 167ms/step - loss: 0.3465 - accuracy: 0.8825 - val_loss: 1.1026 - val_accuracy: 0.6725 - lr: 1.0000e-04\n",
      "Epoch 133/200\n",
      "48/48 [==============================] - 9s 180ms/step - loss: 0.3535 - accuracy: 0.8779 - val_loss: 1.1094 - val_accuracy: 0.6667 - lr: 1.0000e-04\n",
      "Epoch 134/200\n",
      "48/48 [==============================] - 9s 178ms/step - loss: 0.3336 - accuracy: 0.8916 - val_loss: 1.0918 - val_accuracy: 0.6667 - lr: 1.0000e-04\n",
      "Epoch 135/200\n",
      "48/48 [==============================] - 8s 168ms/step - loss: 0.3315 - accuracy: 0.8890 - val_loss: 1.1171 - val_accuracy: 0.6550 - lr: 1.0000e-04\n",
      "Epoch 136/200\n",
      "48/48 [==============================] - 8s 166ms/step - loss: 0.3221 - accuracy: 0.8877 - val_loss: 1.1140 - val_accuracy: 0.6550 - lr: 1.0000e-04\n",
      "Epoch 137/200\n",
      "48/48 [==============================] - 8s 168ms/step - loss: 0.3272 - accuracy: 0.8916 - val_loss: 1.1389 - val_accuracy: 0.6725 - lr: 1.0000e-04\n",
      "Epoch 138/200\n",
      "48/48 [==============================] - 8s 171ms/step - loss: 0.3357 - accuracy: 0.8812 - val_loss: 1.1137 - val_accuracy: 0.6667 - lr: 1.0000e-04\n",
      "Epoch 139/200\n",
      "48/48 [==============================] - 8s 169ms/step - loss: 0.3231 - accuracy: 0.8845 - val_loss: 1.1261 - val_accuracy: 0.6608 - lr: 1.0000e-04\n",
      "Epoch 140/200\n",
      "48/48 [==============================] - 8s 169ms/step - loss: 0.3166 - accuracy: 0.8903 - val_loss: 1.0977 - val_accuracy: 0.6842 - lr: 1.0000e-04\n",
      "Epoch 141/200\n",
      "48/48 [==============================] - 8s 172ms/step - loss: 0.3153 - accuracy: 0.8812 - val_loss: 1.1108 - val_accuracy: 0.6725 - lr: 1.0000e-04\n",
      "Epoch 142/200\n",
      "48/48 [==============================] - 9s 191ms/step - loss: 0.3164 - accuracy: 0.8903 - val_loss: 1.1024 - val_accuracy: 0.6901 - lr: 1.0000e-04\n",
      "Epoch 143/200\n",
      "48/48 [==============================] - 9s 178ms/step - loss: 0.3217 - accuracy: 0.8799 - val_loss: 1.1288 - val_accuracy: 0.6667 - lr: 1.0000e-04\n",
      "Epoch 144/200\n",
      "48/48 [==============================] - 8s 176ms/step - loss: 0.3154 - accuracy: 0.8903 - val_loss: 1.1207 - val_accuracy: 0.6842 - lr: 1.0000e-04\n",
      "Epoch 145/200\n",
      "48/48 [==============================] - 9s 179ms/step - loss: 0.3033 - accuracy: 0.8930 - val_loss: 1.1250 - val_accuracy: 0.6725 - lr: 1.0000e-04\n",
      "Epoch 146/200\n",
      "48/48 [==============================] - 8s 171ms/step - loss: 0.2965 - accuracy: 0.8962 - val_loss: 1.1176 - val_accuracy: 0.6608 - lr: 1.0000e-04\n",
      "Epoch 147/200\n",
      "48/48 [==============================] - 8s 163ms/step - loss: 0.2914 - accuracy: 0.9014 - val_loss: 1.1205 - val_accuracy: 0.6725 - lr: 1.0000e-04\n",
      "Epoch 148/200\n",
      "48/48 [==============================] - 8s 168ms/step - loss: 0.3058 - accuracy: 0.8923 - val_loss: 1.1421 - val_accuracy: 0.6725 - lr: 1.0000e-04\n",
      "Epoch 149/200\n",
      "48/48 [==============================] - 8s 165ms/step - loss: 0.3102 - accuracy: 0.8910 - val_loss: 1.1291 - val_accuracy: 0.6433 - lr: 1.0000e-04\n",
      "Epoch 150/200\n",
      "48/48 [==============================] - 8s 167ms/step - loss: 0.2908 - accuracy: 0.9027 - val_loss: 1.1466 - val_accuracy: 0.6608 - lr: 1.0000e-04\n",
      "Epoch 151/200\n",
      "48/48 [==============================] - 9s 180ms/step - loss: 0.2947 - accuracy: 0.8923 - val_loss: 1.1404 - val_accuracy: 0.6667 - lr: 1.0000e-04\n",
      "Epoch 152/200\n",
      "48/48 [==============================] - 9s 184ms/step - loss: 0.2765 - accuracy: 0.9112 - val_loss: 1.1429 - val_accuracy: 0.6842 - lr: 1.0000e-04\n",
      "Epoch 153/200\n",
      "48/48 [==============================] - 9s 192ms/step - loss: 0.2920 - accuracy: 0.8995 - val_loss: 1.1366 - val_accuracy: 0.6842 - lr: 1.0000e-04\n",
      "Epoch 154/200\n",
      "48/48 [==============================] - 9s 186ms/step - loss: 0.2909 - accuracy: 0.8916 - val_loss: 1.1397 - val_accuracy: 0.6667 - lr: 1.0000e-04\n",
      "Epoch 155/200\n",
      "48/48 [==============================] - 9s 187ms/step - loss: 0.2798 - accuracy: 0.9014 - val_loss: 1.1414 - val_accuracy: 0.6725 - lr: 1.0000e-04\n",
      "Epoch 156/200\n",
      "48/48 [==============================] - 9s 189ms/step - loss: 0.2784 - accuracy: 0.9014 - val_loss: 1.1402 - val_accuracy: 0.6842 - lr: 1.0000e-04\n",
      "Epoch 157/200\n",
      "48/48 [==============================] - 8s 176ms/step - loss: 0.2731 - accuracy: 0.9125 - val_loss: 1.1604 - val_accuracy: 0.6784 - lr: 1.0000e-04\n",
      "Epoch 158/200\n",
      "48/48 [==============================] - 9s 180ms/step - loss: 0.2852 - accuracy: 0.8969 - val_loss: 1.1826 - val_accuracy: 0.6667 - lr: 1.0000e-04\n",
      "Epoch 159/200\n",
      "48/48 [==============================] - 8s 165ms/step - loss: 0.2797 - accuracy: 0.9093 - val_loss: 1.1443 - val_accuracy: 0.6842 - lr: 1.0000e-04\n",
      "Epoch 160/200\n",
      "48/48 [==============================] - 8s 166ms/step - loss: 0.2647 - accuracy: 0.9197 - val_loss: 1.1692 - val_accuracy: 0.6667 - lr: 1.0000e-04\n",
      "Epoch 161/200\n",
      "48/48 [==============================] - 8s 168ms/step - loss: 0.2684 - accuracy: 0.9001 - val_loss: 1.1557 - val_accuracy: 0.6667 - lr: 1.0000e-04\n",
      "Epoch 162/200\n",
      "48/48 [==============================] - 8s 165ms/step - loss: 0.2640 - accuracy: 0.9099 - val_loss: 1.1468 - val_accuracy: 0.6901 - lr: 1.0000e-04\n",
      "Epoch 163/200\n",
      "48/48 [==============================] - 8s 164ms/step - loss: 0.2634 - accuracy: 0.9040 - val_loss: 1.1723 - val_accuracy: 0.6784 - lr: 1.0000e-04\n",
      "Epoch 164/200\n",
      "48/48 [==============================] - 8s 165ms/step - loss: 0.2596 - accuracy: 0.9080 - val_loss: 1.1704 - val_accuracy: 0.6667 - lr: 1.0000e-04\n",
      "Epoch 165/200\n",
      "48/48 [==============================] - 8s 173ms/step - loss: 0.2624 - accuracy: 0.9125 - val_loss: 1.1742 - val_accuracy: 0.6550 - lr: 1.0000e-04\n",
      "Epoch 166/200\n",
      "48/48 [==============================] - 9s 181ms/step - loss: 0.2546 - accuracy: 0.9119 - val_loss: 1.2078 - val_accuracy: 0.6667 - lr: 1.0000e-04\n",
      "Epoch 167/200\n",
      "48/48 [==============================] - 9s 189ms/step - loss: 0.2622 - accuracy: 0.9073 - val_loss: 1.2193 - val_accuracy: 0.6608 - lr: 1.0000e-04\n",
      "Epoch 168/200\n",
      "48/48 [==============================] - 8s 175ms/step - loss: 0.2576 - accuracy: 0.9138 - val_loss: 1.2106 - val_accuracy: 0.6667 - lr: 1.0000e-04\n",
      "Epoch 169/200\n",
      "48/48 [==============================] - 9s 187ms/step - loss: 0.2529 - accuracy: 0.9119 - val_loss: 1.1994 - val_accuracy: 0.6725 - lr: 1.0000e-04\n",
      "Epoch 170/200\n",
      "48/48 [==============================] - 9s 178ms/step - loss: 0.2499 - accuracy: 0.9151 - val_loss: 1.2065 - val_accuracy: 0.6784 - lr: 1.0000e-04\n",
      "Epoch 171/200\n",
      "48/48 [==============================] - 8s 168ms/step - loss: 0.2512 - accuracy: 0.9080 - val_loss: 1.1976 - val_accuracy: 0.6608 - lr: 1.0000e-04\n",
      "Epoch 172/200\n",
      "48/48 [==============================] - 8s 160ms/step - loss: 0.2518 - accuracy: 0.9086 - val_loss: 1.1920 - val_accuracy: 0.6784 - lr: 1.0000e-04\n",
      "Epoch 173/200\n",
      "48/48 [==============================] - 8s 167ms/step - loss: 0.2471 - accuracy: 0.9178 - val_loss: 1.2142 - val_accuracy: 0.6667 - lr: 1.0000e-04\n",
      "Epoch 174/200\n",
      "48/48 [==============================] - 8s 171ms/step - loss: 0.2453 - accuracy: 0.9151 - val_loss: 1.1911 - val_accuracy: 0.6725 - lr: 1.0000e-04\n",
      "Epoch 175/200\n",
      "48/48 [==============================] - 8s 170ms/step - loss: 0.2390 - accuracy: 0.9210 - val_loss: 1.1969 - val_accuracy: 0.6842 - lr: 1.0000e-04\n",
      "Epoch 176/200\n",
      "48/48 [==============================] - 8s 170ms/step - loss: 0.2356 - accuracy: 0.9236 - val_loss: 1.2034 - val_accuracy: 0.6667 - lr: 1.0000e-04\n",
      "Epoch 177/200\n",
      "48/48 [==============================] - 8s 167ms/step - loss: 0.2313 - accuracy: 0.9243 - val_loss: 1.1840 - val_accuracy: 0.6784 - lr: 1.0000e-04\n",
      "Epoch 178/200\n",
      "48/48 [==============================] - 8s 169ms/step - loss: 0.2363 - accuracy: 0.9151 - val_loss: 1.2217 - val_accuracy: 0.6667 - lr: 1.0000e-04\n",
      "Epoch 179/200\n",
      "48/48 [==============================] - 8s 172ms/step - loss: 0.2336 - accuracy: 0.9217 - val_loss: 1.2211 - val_accuracy: 0.6784 - lr: 1.0000e-04\n",
      "Epoch 180/200\n",
      "48/48 [==============================] - 8s 169ms/step - loss: 0.2273 - accuracy: 0.9217 - val_loss: 1.1999 - val_accuracy: 0.6842 - lr: 1.0000e-04\n",
      "Epoch 181/200\n",
      "48/48 [==============================] - 8s 171ms/step - loss: 0.2250 - accuracy: 0.9217 - val_loss: 1.2253 - val_accuracy: 0.6784 - lr: 1.0000e-04\n",
      "Epoch 182/200\n",
      "48/48 [==============================] - 8s 165ms/step - loss: 0.2329 - accuracy: 0.9210 - val_loss: 1.2079 - val_accuracy: 0.6667 - lr: 1.0000e-04\n",
      "Epoch 183/200\n",
      "48/48 [==============================] - 8s 161ms/step - loss: 0.2207 - accuracy: 0.9217 - val_loss: 1.2083 - val_accuracy: 0.6784 - lr: 1.0000e-04\n",
      "Epoch 184/200\n",
      "48/48 [==============================] - 8s 165ms/step - loss: 0.2302 - accuracy: 0.9217 - val_loss: 1.2294 - val_accuracy: 0.6784 - lr: 1.0000e-04\n",
      "Epoch 185/200\n",
      "48/48 [==============================] - 8s 166ms/step - loss: 0.2142 - accuracy: 0.9334 - val_loss: 1.2405 - val_accuracy: 0.6725 - lr: 1.0000e-04\n",
      "Epoch 186/200\n",
      "48/48 [==============================] - 8s 169ms/step - loss: 0.2217 - accuracy: 0.9236 - val_loss: 1.2344 - val_accuracy: 0.6784 - lr: 1.0000e-04\n",
      "Epoch 187/200\n",
      "48/48 [==============================] - 8s 168ms/step - loss: 0.2143 - accuracy: 0.9282 - val_loss: 1.2646 - val_accuracy: 0.6725 - lr: 1.0000e-04\n",
      "Epoch 188/200\n",
      "48/48 [==============================] - 9s 177ms/step - loss: 0.2087 - accuracy: 0.9302 - val_loss: 1.2537 - val_accuracy: 0.6784 - lr: 1.0000e-04\n",
      "Epoch 189/200\n",
      "48/48 [==============================] - 8s 171ms/step - loss: 0.2083 - accuracy: 0.9269 - val_loss: 1.2556 - val_accuracy: 0.6784 - lr: 1.0000e-04\n",
      "Epoch 190/200\n",
      "48/48 [==============================] - 8s 167ms/step - loss: 0.2118 - accuracy: 0.9256 - val_loss: 1.2417 - val_accuracy: 0.6784 - lr: 1.0000e-04\n",
      "Epoch 191/200\n",
      "48/48 [==============================] - 8s 168ms/step - loss: 0.2194 - accuracy: 0.9197 - val_loss: 1.2457 - val_accuracy: 0.6784 - lr: 1.0000e-04\n",
      "Epoch 192/200\n",
      "48/48 [==============================] - 8s 166ms/step - loss: 0.2028 - accuracy: 0.9334 - val_loss: 1.2217 - val_accuracy: 0.7018 - lr: 1.0000e-04\n",
      "Epoch 193/200\n",
      "48/48 [==============================] - 8s 160ms/step - loss: 0.2140 - accuracy: 0.9269 - val_loss: 1.2439 - val_accuracy: 0.6901 - lr: 1.0000e-04\n",
      "Epoch 194/200\n",
      "48/48 [==============================] - 8s 164ms/step - loss: 0.2041 - accuracy: 0.9328 - val_loss: 1.2422 - val_accuracy: 0.6901 - lr: 1.0000e-04\n",
      "Epoch 195/200\n",
      "48/48 [==============================] - 8s 168ms/step - loss: 0.1983 - accuracy: 0.9341 - val_loss: 1.2325 - val_accuracy: 0.6784 - lr: 1.0000e-04\n",
      "Epoch 196/200\n",
      "48/48 [==============================] - 8s 168ms/step - loss: 0.1999 - accuracy: 0.9289 - val_loss: 1.2709 - val_accuracy: 0.6667 - lr: 1.0000e-04\n",
      "Epoch 197/200\n",
      "48/48 [==============================] - 8s 162ms/step - loss: 0.2004 - accuracy: 0.9380 - val_loss: 1.2636 - val_accuracy: 0.6784 - lr: 1.0000e-04\n",
      "Epoch 198/200\n",
      "48/48 [==============================] - 8s 164ms/step - loss: 0.2174 - accuracy: 0.9230 - val_loss: 1.2599 - val_accuracy: 0.6784 - lr: 1.0000e-04\n",
      "Epoch 199/200\n",
      "48/48 [==============================] - 8s 168ms/step - loss: 0.2032 - accuracy: 0.9334 - val_loss: 1.2921 - val_accuracy: 0.6667 - lr: 1.0000e-04\n"
     ]
    },
    {
     "name": "stdout",
     "output_type": "stream",
     "text": [
      "Epoch 200/200\n",
      "48/48 [==============================] - 8s 164ms/step - loss: 0.1976 - accuracy: 0.9413 - val_loss: 1.2783 - val_accuracy: 0.6784 - lr: 1.0000e-04\n"
     ]
    }
   ],
   "source": [
    "history = model.fit(np.array(X_train).reshape(1532,50,1), np.array(Y_train), epochs=200, validation_data=(np.array(X_test).reshape(171,50,1),np.array(Y_test)), batch_size=32, callbacks=[learning_rate_reduction])"
   ]
  },
  {
   "cell_type": "code",
   "execution_count": 58,
   "id": "3eba5265",
   "metadata": {},
   "outputs": [
    {
     "data": {
      "text/plain": [
       "Text(0, 0.5, 'Accuracy')"
      ]
     },
     "execution_count": 58,
     "metadata": {},
     "output_type": "execute_result"
    },
    {
     "data": {
      "image/png": "[encoded data removed]",
      "text/plain": [
       "<Figure size 1200x600 with 2 Axes>"
      ]
     },
     "metadata": {},
     "output_type": "display_data"
    }
   ],
   "source": [
    "fig, (ax1, ax2) = plt.subplots(2,1, figsize=(12,6))\n",
    "ax2.plot(history.history['loss'], color='orange', label='Loss')\n",
    "ax2.plot(history.history['val_loss'], color='blue', label='val_loss')\n",
    "ax2.legend(loc='upper right')\n",
    "ax1.plot(history.history['accuracy'], label='Accuracy', color='orange')\n",
    "ax1.plot(history.history['val_accuracy'], label='val_accuracy', color='blue')\n",
    "ax1.legend(loc=\"upper right\")\n",
    "ax1.set_title(\"Model-Accuracy w.r.t Epochs\", loc='center')\n",
    "plt.xlabel(\"Epochs\")\n",
    "plt.ylabel(\"Loss\")\n",
    "ax1.set_xlabel(\"Epoch\")\n",
    "ax1.set_ylabel(\"Accuracy\")"
   ]
  }
 ],
 "metadata": {
  "kernelspec": {
   "display_name": "Python 3 (ipykernel)",
   "language": "python",
   "name": "python3"
  },
  "language_info": {
   "codemirror_mode": {
    "name": "ipython",
    "version": 3
   },
   "file_extension": ".py",
   "mimetype": "text/x-python",
   "name": "python",
   "nbconvert_exporter": "python",
   "pygments_lexer": "ipython3",
   "version": "3.10.7"
  }
 },
 "nbformat": 4,
 "nbformat_minor": 5
}
